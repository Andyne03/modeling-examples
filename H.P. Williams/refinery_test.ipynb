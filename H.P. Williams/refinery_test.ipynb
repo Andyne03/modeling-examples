{
 "cells": [
  {
   "cell_type": "code",
   "execution_count": 1,
   "metadata": {},
   "outputs": [],
   "source": [
    "import numpy as np\n",
    "from operator import itemgetter \n",
    "from gurobipy import *\n",
    "\n",
    "products = {\"cr1\", \"cr2\", \"ln\", \"mn\", \"hn\", \"lo\", \"ho\", \"r\", \"rg\", \"cg\", \"co\", \"pmf\", \"rmf\", \"jf\", \"fo\", \"lbo\"}\n",
    "distill = {\"cr1\", \"cr2\"}\n",
    "reform = {\"ln\", \"mn\", \"hn\"}\n",
    "crack = {\"lo\", \"ho\"}\n",
    "profit = {\"pmf\":7, \"rmf\":6, \"jf\": 4, \"fo\": 3.5, \"lbo\":1.5}\n",
    "distill_cap = 45000\n",
    "reform_cap = 10000\n",
    "crack_cap = 8000\n",
    "buy_limit = {\"cr1\": 20000, \"cr2\": 30000}\n",
    "lbo_min = 500\n",
    "lbo_max = 1000\n",
    "yields = {\n",
    "    (\"cr1\", \"ln\"): 0.10,\n",
    "    (\"cr2\", \"ln\"): 0.15,\n",
    "    (\"cr1\", \"mn\"): 0.20,\n",
    "    (\"cr2\", \"mn\"): 0.25,\n",
    "    (\"cr1\", \"hn\"): 0.20,\n",
    "    (\"cr2\", \"hn\"): 0.18,\n",
    "    (\"cr1\", \"lo\"): 0.12,\n",
    "    (\"cr2\", \"lo\"): 0.08,\n",
    "    (\"cr1\", \"ho\"): 0.20,\n",
    "    (\"cr2\", \"ho\"): 0.19,\n",
    "    (\"cr1\", \"r\"): 0.13,\n",
    "    (\"cr2\", \"r\"): 0.12,\n",
    "    (\"ln\", \"rg\"): 0.60,\n",
    "    (\"mn\", \"rg\"): 0.52,\n",
    "    (\"hn\", \"rg\"): 0.45,\n",
    "    (\"lo\", \"co\"): 0.68,\n",
    "    (\"ho\", \"co\"): 0.75,\n",
    "    (\"lo\", \"cg\"): 0.28,\n",
    "    (\"ho\", \"cg\"): 0.20,\n",
    "    (\"r\", \"lbo\"): 0.50,\n",
    "    (\"ln\", \"pmf\"): 1.00,\n",
    "    (\"mn\", \"pmf\"): 1.00,\n",
    "    (\"hn\", \"pmf\"): 1.00,\n",
    "    (\"rg\", \"pmf\"): 1.00,\n",
    "    (\"cg\", \"pmf\"): 1.00,\n",
    "    (\"ln\", \"rmf\"): 1.00,\n",
    "    (\"mn\", \"rmf\"): 1.00,\n",
    "    (\"hn\", \"rmf\"): 1.00,\n",
    "    (\"rg\", \"rmf\"): 1.00,\n",
    "    (\"cg\", \"rmf\"): 1.00,\n",
    "    (\"lo\", \"jf\"): 1.00,\n",
    "    (\"ho\", \"jf\"): 1.00,\n",
    "    (\"co\", \"jf\"): 1.00,\n",
    "    (\"r\", \"jf\"): 1.00,\n",
    "    (\"lo\", \"fo\"): 1.00,\n",
    "    (\"ho\", \"fo\"): 1.00,\n",
    "    (\"co\", \"fo\"): 1.00,\n",
    "    (\"r\", \"fo\"): 1.00\n",
    "}\n",
    "used_for = {\n",
    "    \"ln\": {\"rg\", \"pmf\", \"rmf\"},\n",
    "    \"mn\": {\"rg\", \"pmf\", \"rmf\"},\n",
    "    \"hn\": {\"rg\", \"pmf\", \"rmf\"},\n",
    "    \"lo\": {\"cg\", \"co\", \"jf\", \"fo\"},\n",
    "    \"ho\": {\"cg\", \"co\", \"jf\", \"fo\"},\n",
    "    \"co\": {\"jf\", \"fo\"},\n",
    "    \"r\": {\"lbo\", \"jf\", \"fo\"},\n",
    "    \"cg\": {\"pmf\", \"rmf\"},\n",
    "    \"rg\": {\"pmf\", \"rmf\"},   \n",
    "} \n",
    "fo_ratios = {\"lo\":5/9, \"ho\":1/6, \"co\":2/9, \"r\":1/18}\n",
    "vapor_pressure = {\"lo\": 1, \"ho\":0.6, \"co\":1.5, \"r\":0.05}\n",
    "octane_rating = {\"ln\":90, \"mn\": 80, \"hn\":70, \"rg\":115, \"cg\":105}\n",
    "octane_tol = {\"pmf\":94, \"rmf\": 84}"
   ]
  },
  {
   "cell_type": "code",
   "execution_count": 2,
   "metadata": {},
   "outputs": [],
   "source": [
    "refinery = Model()\n",
    "get = refinery.addVars(yields.keys(), name=\"Get\")\n",
    "produce = refinery.addVars(products, name=\"Produce\")"
   ]
  },
  {
   "cell_type": "code",
   "execution_count": 3,
   "metadata": {},
   "outputs": [
    {
     "data": {
      "text/plain": [
       "{'cr2': <gurobi.Constr *Awaiting Model Update*>,\n",
       " 'cr1': <gurobi.Constr *Awaiting Model Update*>}"
      ]
     },
     "execution_count": 3,
     "metadata": {},
     "output_type": "execute_result"
    }
   ],
   "source": [
    "refinery.addConstrs((produce[crude] <= buy_limit[crude] for crude in distill), name=\"Purchase_limit\")"
   ]
  },
  {
   "cell_type": "code",
   "execution_count": 4,
   "metadata": {},
   "outputs": [
    {
     "data": {
      "text/plain": [
       "<gurobi.Constr *Awaiting Model Update*>"
      ]
     },
     "execution_count": 4,
     "metadata": {},
     "output_type": "execute_result"
    }
   ],
   "source": [
    "refinery.addConstr(quicksum(produce[crude] for crude in distill), GRB.LESS_EQUAL, distill_cap, name=\"Distill_capacity\")"
   ]
  },
  {
   "cell_type": "code",
   "execution_count": 5,
   "metadata": {},
   "outputs": [
    {
     "data": {
      "text/plain": [
       "<gurobi.Constr *Awaiting Model Update*>"
      ]
     },
     "execution_count": 5,
     "metadata": {},
     "output_type": "execute_result"
    }
   ],
   "source": [
    "refinery.addConstr(get.sum(\"*\", \"rg\"), GRB.LESS_EQUAL, reform_cap, name=\"Reform_capacity\")"
   ]
  },
  {
   "cell_type": "code",
   "execution_count": 6,
   "metadata": {},
   "outputs": [
    {
     "data": {
      "text/plain": [
       "<gurobi.Constr *Awaiting Model Update*>"
      ]
     },
     "execution_count": 6,
     "metadata": {},
     "output_type": "execute_result"
    }
   ],
   "source": [
    "refinery.addConstr(get.sum(\"*\", \"cg\") + get.sum(\"*\", \"co\"), GRB.LESS_EQUAL, crack_cap, name=\"Crack_capacity\")"
   ]
  },
  {
   "cell_type": "code",
   "execution_count": 7,
   "metadata": {},
   "outputs": [
    {
     "data": {
      "text/plain": [
       "{'jf': <gurobi.Constr *Awaiting Model Update*>,\n",
       " 'ln': <gurobi.Constr *Awaiting Model Update*>,\n",
       " 'co': <gurobi.Constr *Awaiting Model Update*>,\n",
       " 'rmf': <gurobi.Constr *Awaiting Model Update*>,\n",
       " 'rg': <gurobi.Constr *Awaiting Model Update*>,\n",
       " 'lbo': <gurobi.Constr *Awaiting Model Update*>,\n",
       " 'r': <gurobi.Constr *Awaiting Model Update*>,\n",
       " 'hn': <gurobi.Constr *Awaiting Model Update*>,\n",
       " 'cg': <gurobi.Constr *Awaiting Model Update*>,\n",
       " 'pmf': <gurobi.Constr *Awaiting Model Update*>,\n",
       " 'fo': <gurobi.Constr *Awaiting Model Update*>,\n",
       " 'lo': <gurobi.Constr *Awaiting Model Update*>,\n",
       " 'mn': <gurobi.Constr *Awaiting Model Update*>,\n",
       " 'ho': <gurobi.Constr *Awaiting Model Update*>}"
      ]
     },
     "execution_count": 7,
     "metadata": {},
     "output_type": "execute_result"
    }
   ],
   "source": [
    "refinery.addConstrs((get.prod(yields, \"*\", out) == produce[out] for out in set(map(itemgetter(1), yields.keys()))), name=\"Yield\")"
   ]
  },
  {
   "cell_type": "code",
   "execution_count": 8,
   "metadata": {},
   "outputs": [
    {
     "data": {
      "text/plain": [
       "{'ln': <gurobi.Constr *Awaiting Model Update*>,\n",
       " 'mn': <gurobi.Constr *Awaiting Model Update*>,\n",
       " 'hn': <gurobi.Constr *Awaiting Model Update*>,\n",
       " 'lo': <gurobi.Constr *Awaiting Model Update*>,\n",
       " 'ho': <gurobi.Constr *Awaiting Model Update*>,\n",
       " 'co': <gurobi.Constr *Awaiting Model Update*>,\n",
       " 'r': <gurobi.Constr *Awaiting Model Update*>,\n",
       " 'cg': <gurobi.Constr *Awaiting Model Update*>,\n",
       " 'rg': <gurobi.Constr *Awaiting Model Update*>}"
      ]
     },
     "execution_count": 8,
     "metadata": {},
     "output_type": "execute_result"
    }
   ],
   "source": [
    "refinery.addConstrs((quicksum(get[iput, oput] for oput in used_for[iput]) == produce[iput] for iput in used_for.keys()), name=\"Mass_conservation\")"
   ]
  },
  {
   "cell_type": "markdown",
   "metadata": {},
   "source": [
    "## We need additional constraints to keep proportions right"
   ]
  },
  {
   "cell_type": "code",
   "execution_count": 9,
   "metadata": {},
   "outputs": [],
   "source": [
    "refinery.addConstrs((get[iput, \"fo\"] == fo_ratios[iput]*produce[\"fo\"] for iput in fo_ratios.keys()),name=\"Fueloil_ratios\")\n",
    "produce[\"lbo\"].LB = lbo_min\n",
    "produce[\"lbo\"].UB = lbo_max"
   ]
  },
  {
   "cell_type": "code",
   "execution_count": 10,
   "metadata": {},
   "outputs": [
    {
     "data": {
      "text/plain": [
       "<gurobi.Constr *Awaiting Model Update*>"
      ]
     },
     "execution_count": 10,
     "metadata": {},
     "output_type": "execute_result"
    }
   ],
   "source": [
    "refinery.addConstr(produce[\"pmf\"], GRB.GREATER_EQUAL, 0.40*produce[\"rmf\"], name=\"Premium2Regular\")"
   ]
  },
  {
   "cell_type": "code",
   "execution_count": 11,
   "metadata": {},
   "outputs": [
    {
     "data": {
      "text/plain": [
       "{'pmf': <gurobi.Constr *Awaiting Model Update*>,\n",
       " 'rmf': <gurobi.Constr *Awaiting Model Update*>}"
      ]
     },
     "execution_count": 11,
     "metadata": {},
     "output_type": "execute_result"
    }
   ],
   "source": [
    "refinery.addConstrs((get.prod(octane_rating, \"*\", gas) >= octane_tol[gas]*produce[gas] for gas in {\"pmf\", \"rmf\"}), name=\"Octane_rating\")"
   ]
  },
  {
   "cell_type": "code",
   "execution_count": 12,
   "metadata": {},
   "outputs": [
    {
     "data": {
      "text/plain": [
       "<gurobi.Constr *Awaiting Model Update*>"
      ]
     },
     "execution_count": 12,
     "metadata": {},
     "output_type": "execute_result"
    }
   ],
   "source": [
    "refinery.addConstr(get.prod(vapor_pressure, \"*\", \"jf\"), GRB.LESS_EQUAL, produce[\"jf\"], name=\"Vapor_pressure\")"
   ]
  },
  {
   "cell_type": "code",
   "execution_count": 13,
   "metadata": {},
   "outputs": [],
   "source": [
    "refinery.setObjective(quicksum(profit[prod]*produce[prod] for prod in profit.keys()), GRB.MAXIMIZE)"
   ]
  },
  {
   "cell_type": "code",
   "execution_count": 14,
   "metadata": {},
   "outputs": [
    {
     "name": "stdout",
     "output_type": "stream",
     "text": [
      "Optimize a model with 36 rows, 54 columns and 111 nonzeros\n",
      "Coefficient statistics:\n",
      "  Matrix range     [6e-02, 9e+01]\n",
      "  Objective range  [2e+00, 7e+00]\n",
      "  Bounds range     [5e+02, 1e+03]\n",
      "  RHS range        [8e+03, 4e+04]\n",
      "Presolve removed 17 rows and 30 columns\n",
      "Presolve time: 0.01s\n",
      "\n",
      "Solved in 0 iterations and 0.01 seconds\n",
      "Infeasible or unbounded model\n"
     ]
    }
   ],
   "source": [
    "refinery.optimize()"
   ]
  },
  {
   "cell_type": "code",
   "execution_count": 15,
   "metadata": {},
   "outputs": [],
   "source": [
    "refinery.write(\"file.lp\")"
   ]
  },
  {
   "cell_type": "code",
   "execution_count": null,
   "metadata": {},
   "outputs": [],
   "source": []
  },
  {
   "cell_type": "code",
   "execution_count": null,
   "metadata": {},
   "outputs": [],
   "source": []
  }
 ],
 "metadata": {
  "kernelspec": {
   "display_name": "Python 3",
   "language": "python",
   "name": "python3"
  },
  "language_info": {
   "codemirror_mode": {
    "name": "ipython",
    "version": 3
   },
   "file_extension": ".py",
   "mimetype": "text/x-python",
   "name": "python",
   "nbconvert_exporter": "python",
   "pygments_lexer": "ipython3",
   "version": "3.7.0"
  }
 },
 "nbformat": 4,
 "nbformat_minor": 2
}
