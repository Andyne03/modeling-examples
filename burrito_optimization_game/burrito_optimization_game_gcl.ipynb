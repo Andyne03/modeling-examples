{
 "cells": [
  {
   "cell_type": "markdown",
   "id": "instructional-latest",
   "metadata": {},
   "source": [
    "![Burrito Optimization Game](util/bog_header.png)\n",
    "<center><a target=\"_blank\" href=\"https://www.burritooptimizationgame.com/\">BurritoOptimizationGame.com</a></center>\n",
    "<center><a target=\"_blank\" href=\"https://www.gurobi.com/lp/academics/burrito-optimization-game-guide/#optimal-solutions\">Game Guide</a>  |  <a target=\"_blank\" href=\"https://www.gurobi.com/lp/academics/burrito-optimization-teaching-guide/\">Teaching Guide</a></center>\n",
    "<center>Notebook by Alison Cozad  | <a target=\"_blank\" href=\"https://www.gurobi.com/lp/academics/burrito-optimization-game-guide/#who-built-this\">Game credits</a></center>\n",
    "\n",
    "\n",
    "The Burrito Optimization Game is an educational game designed to introduce students to the power of optimization. In the game, the player places burrito trucks on a city map to earn as much profit as possible. In playing the game, the player is essentially solving an optimization problem “by hand”. The game is designed to introduce players to optimization—what it is, what it’s useful for, and why it’s hard to do by hand. To play the game, you must be logged in to your Gurobi account on a desktop."
   ]
  },
  {
   "cell_type": "markdown",
   "id": "noble-cliff",
   "metadata": {},
   "source": [
    "In this notebook, we will learn how to write the Burrito game optimization model for any day in Round 1 using the data downloaded from the game.\n",
    "\n",
    "This modeling tutorial is at the introductory level, where we assume that you know Python and have a background in a discipline that uses quantitative methods.  \n",
    "\n",
    "Here are a few handy resources to have ready:\n",
    "- [Gurobi Python Documentation](https://www.gurobi.com/documentation/9.5/refman/py_python_api_overview.html)\n",
    "- [Gurobi Python Examples](https://www.gurobi.com/documentation/9.5/examples/python_examples.html)\n",
    "- [Burrito Optimization Game: Teaching Guide](https://www.gurobi.com/lp/academics/burrito-optimization-teaching-guide/)\n",
    "- [Burrito Optimization Game: Game Guide](https://www.gurobi.com/lp/academics/burrito-optimization-game-guide/)"
   ]
  },
  {
   "cell_type": "markdown",
   "id": "eastern-needle",
   "metadata": {},
   "source": [
    "---\n",
    "\n",
    "## Problem description\n",
    "\n",
    "Guroble has just set up business in Burritoville! Guroble needs your assistance planning where to place its burrito trucks to serve hungry customers throughout the city and maximize its profit. Truck placement has to be carefully planned because every truck has a cost, but its ability to earn revenue depends on how close it is to potential customers.\n",
    "\n",
    "### Your task in the game:\n",
    "![Your task in the game](util/bog_instructions.png)\n",
    "\n",
    "### Your task in this notebook: \n",
    "Write a model to select the optimal burrito truck placement to maximize profits.  You will be solving for one day in Round 1.\n"
   ]
  },
  {
   "cell_type": "markdown",
   "id": "civic-guard",
   "metadata": {},
   "source": [
    "---\n",
    "\n",
    "## Before you dive into this model, \n",
    "If you haven't already, we recommend playing Days 1 and 2 in Round 1 of the [BurritoOptimizationGame.com](https://www.burritooptimizationgame.com/) to learn about Burritoville and the problem we are trying to solve.  Then, ask yourself:\n",
    "- What seems easy or hard about locating burrito trucks? \n",
    "- Did you find a solution that was close to optimal?\n",
    "- Should you order a burrito now or wait until you are done with this notebook?\n",
    "- What strategy did you use? I bet you wish you had your own optimization model, eh? (Cue shameless promotion of this Jupyter Notebook)."
   ]
  },
  {
   "cell_type": "markdown",
   "id": "productive-tennis",
   "metadata": {},
   "source": [
    "## Let's get started\n",
    "Throughout the rest of this notebook, we will\n",
    "1. Define the data structures\n",
    "1. Create the Gurobi `model` object\n",
    "1. Add decision variables\n",
    "1. Add constraints\n",
    "1. Set the objective function\n",
    "1. Solve the model\n",
    "1. Retrieve solution values\n",
    "\n"
   ]
  },
  {
   "cell_type": "markdown",
   "id": "emotional-manufacturer",
   "metadata": {},
   "source": [
    "## 0. The obligatory part\n",
    "I know this wasn't on the list that I just gave you. Alas, this is the obligatory part of all python code: installing and importing packages.  \n",
    "\n",
    "First, let's install a few packages as needed"
   ]
  },
  {
   "cell_type": "code",
   "execution_count": null,
   "id": "tamil-terminology",
   "metadata": {},
   "outputs": [],
   "source": [
    "%pip install gurobipy\n",
    "%pip install plotly\n",
    "%pip install requests"
   ]
  },
  {
   "cell_type": "markdown",
   "id": "convenient-knock",
   "metadata": {},
   "source": [
    "Next, we will import the Gurobi callable library and imports the `GRB` class into the main namespace. This will be needed for each time you want to use gurobipy.\n",
    "\n",
    "You are encouraged to completely forget this part and copy-and-paste it for each new Gurobi model you write.  ;)"
   ]
  },
  {
   "cell_type": "code",
   "execution_count": 2,
   "id": "ready-idaho",
   "metadata": {},
   "outputs": [],
   "source": [
    "import gurobipy as gp\n",
    "from gurobipy import GRB"
   ]
  },
  {
   "cell_type": "markdown",
   "id": "legitimate-somerset",
   "metadata": {},
   "source": [
    "---\n",
    "\n",
    "## 1.  Define the data structures\n",
    "\n",
    "The Burrito Optimization Game lets you download the data to define the model.  To ensure we have time for the fun stuff, we have added this below for you.\n",
    "\n",
    "Here is the data overlayed on the map:\n",
    "![Figure showing the game data on the map](util/bog_dataexplanation.png)\n",
    "\n",
    "What do we know about Burritoville on a given day?\n",
    "- Scalar data: `burrito_price`, `ingredient_cost`, and `truck_cost`\n",
    "- Truck data: Set of trucks spots that are available `truck_spots[t]`\n",
    "- Buildings that have customer demand: Total demand `demand[b]` and scaled demand by a factor of how far the customer will have to walk `scaled_demand[b,t]`\n",
    "\n",
    "Other data such as map coordinates and building names are used for plotting only.  In the cells below, we will recreate the BurritoOptimizationGame model using data from CSV files that are downloadable from the game.\n",
    "\n",
    "To start, pick the round and day that you would like to solve for"
   ]
  },
  {
   "cell_type": "code",
   "execution_count": 3,
   "id": "quality-astrology",
   "metadata": {},
   "outputs": [],
   "source": [
    "# Round and day specific string. Note: This model is only valid for Round 1\n",
    "path = \"https://raw.githubusercontent.com/Gurobi/modeling-examples/master/burrito_optimization_game/BurritoOptimizationGame_Data/\"\n",
    "\n",
    "### CHANGE THIS TO SWITCH DAYS. ###\n",
    "# This should match the csv filenames (e.g., round1-day1, round1-day2, round1-day3...)\n",
    "round_day_str = \"round1-day1\" \n",
    "#round_day_str = \"round1-day2\" \n",
    "#round_day_str = \"round1-day3\" \n",
    "#round_day_str = \"round1-day4\" "
   ]
  },
  {
   "cell_type": "markdown",
   "id": "handy-seafood",
   "metadata": {},
   "source": [
    "### Read in and define data structures\n",
    "We will define the following from these data structures:\n",
    "\n",
    "- From the **'Problem Data'** we will get basic data that will be stored as scalars: `burrito_price`, `ingredient_cost`, and `truck_cost`\n",
    "- From **'Truck node data'** we are given the possible truck locations and their coordinates on the map.  We will not use the coordinates in the model, but we will use them for plotting. From this, we create the `truck_spots` set and the `truck_coordinates` dictionary.\n",
    "- From **'Demand node data'** we get a list of buildings with customer demand by building.  We are also given the coordinates and building names --- which we find pretty clever.  We use the Gurobi Python [multidict()](https://www.gurobi.com/documentation/current/refman/py_multidict.html) function to initialize one or more dictionaries with a single statement. The function takes a dictionary as its argument. The keys represent the possible combinations of buildings and truck spots.\n",
    "- From **'Demand-Truck data'** we get information about how the demand scales with each building location and truck spot pair.  Customers are only willing to walk so far to a burrito truck, and the actual number of customers you win from a building is smaller the farther away the truck is from the building. If the nearest truck is too far away, you won’t win any customers from that building.  To account for this, there is a demand multiplier based on how far a customer can walk from their building to a truck spot.  The scaled demand below is the product of the demand multiplier and the total customer demand at a building.  We will also extract this data using the Gurobi Python [multidict()](https://www.gurobi.com/documentation/current/refman/py_multidict.html) function.  From this, we get the `scaled_demand[b,t]` values.\n",
    "\n",
    "These data structures are created in the following cell."
   ]
  },
  {
   "cell_type": "code",
   "execution_count": 4,
   "id": "strategic-latitude",
   "metadata": {},
   "outputs": [
    {
     "name": "stdout",
     "output_type": "stream",
     "text": [
      "Here is a summary of 'round1-day1':\n",
      "  - The burritos cost ₲5.0 to make and are sold for ₲10.0. Each truck costs ₲250.0 to use per day.\n",
      "  - There are 16 available 'truck_spots' or places where a truck can be placed around Burritoville.\n",
      "  - There are in 15 buildings with hungry customers also known as demand nodes.\n",
      "  - There are in 113 pairs of trucks spots and buildings with hungry customers.\n"
     ]
    }
   ],
   "source": [
    "import pandas as pd\n",
    "\n",
    "# Define the urls to pull data from\n",
    "urls={\n",
    "    'Problem data': path + round_day_str + \"_problem_data.csv\",\n",
    "    'Truck node data': path + round_day_str + \"_truck_node_data.csv\",\n",
    "    'Demand node data': path + round_day_str + \"_demand_node_data.csv\",\n",
    "    'Demand-Truck data': path + round_day_str + \"_demand_truck_data.csv\" , \n",
    "}\n",
    "\n",
    "print(f\"Here is a summary of '{round_day_str}':\")\n",
    "\n",
    "# Read in basic problem data\n",
    "url = urls['Problem data']\n",
    "df = pd.read_csv(url)\n",
    "burrito_price = float(df['burrito_price'][0])\n",
    "ingredient_cost = float(df['ingredient_cost'][0])\n",
    "truck_cost = float(df['truck_cost'][0])\n",
    "print(f\"  - The burritos cost ₲{ingredient_cost} to make and are sold for ₲{burrito_price}. Each truck costs ₲{truck_cost} to use per day.\")\n",
    "\n",
    "# Read in truck node data\n",
    "url = urls['Truck node data']\n",
    "df = pd.read_csv(url)\n",
    "truck_coordinates = {row['index']:(float(row['x']),float(row['y'])) for ind,row in df.iterrows()}\n",
    "truck_spots = truck_coordinates.keys()\n",
    "print(f\"  - There are {len(truck_spots)} available 'truck_spots' or places where a truck can be placed around Burritoville.\")\n",
    " \n",
    "# Read in building data\n",
    "url = urls['Demand node data']\n",
    "df = pd.read_csv(url)\n",
    "buildings, building_names, building_coordinates, demand = gp.multidict({\n",
    "        row['index']: [row['name'], (float(row['x']), float(row['y'])), float(row['demand'])] for ind,row in df.iterrows()\n",
    "    })\n",
    "print(f\"  - There are in {len(buildings)} buildings with hungry customers also known as demand nodes.\")\n",
    "\n",
    "\n",
    "# Read in paired building and truck data\n",
    "url = urls['Demand-Truck data']\n",
    "df = pd.read_csv(url)\n",
    "building_truck_spot_pairs, distance, scaled_demand = gp.multidict({\n",
    "        (row['demand_node_index'], row['truck_node_index']): [float(row['distance']), float(row['scaled_demand'])] for ind,row in df.iterrows() if float(row['scaled_demand'])>0# (building, truck_spot): distance, scaled_demand\n",
    "    })\n",
    "print(f\"  - There are in {len(building_truck_spot_pairs)} pairs of trucks spots and buildings with hungry customers.\")"
   ]
  },
  {
   "cell_type": "markdown",
   "id": "amateur-perception",
   "metadata": {},
   "source": [
    "### Current map layout with this data\n",
    "We can now view this data on our Burritoville map to make sure everything looks correct."
   ]
  },
  {
   "cell_type": "code",
   "execution_count": 5,
   "id": "sophisticated-boutique",
   "metadata": {},
   "outputs": [
    {
     "ename": "SyntaxError",
     "evalue": "illegal target for annotation (show_map.py, line 1)",
     "output_type": "error",
     "traceback": [
      "Traceback \u001b[0;36m(most recent call last)\u001b[0m:\n",
      "  File \u001b[1;32m\"/Users/cozad/.pyenv/versions/3.9.2/lib/python3.9/site-packages/IPython/core/interactiveshell.py\"\u001b[0m, line \u001b[1;32m3437\u001b[0m, in \u001b[1;35mrun_code\u001b[0m\n    exec(code_obj, self.user_global_ns, self.user_ns)\n",
      "\u001b[0;36m  File \u001b[0;32m\"<ipython-input-5-2d50641ce479>\"\u001b[0;36m, line \u001b[0;32m6\u001b[0;36m, in \u001b[0;35m<module>\u001b[0;36m\u001b[0m\n\u001b[0;31m    from show_map import show_map\u001b[0m\n",
      "\u001b[0;36m  File \u001b[0;32m\"/Users/cozad/Documents/GitHub/modeling-examples/burrito_optimization_game/show_map.py\"\u001b[0;36m, line \u001b[0;32m1\u001b[0m\n\u001b[0;31m    404: Not Found\u001b[0m\n\u001b[0m    ^\u001b[0m\n\u001b[0;31mSyntaxError\u001b[0m\u001b[0;31m:\u001b[0m illegal target for annotation\n"
     ]
    }
   ],
   "source": [
    "# Plot the truck spots and customer demands on the Burritoville map\n",
    "import requests\n",
    "r = requests.get('https://raw.githubusercontent.com/Gurobi/modeling-examples/master/burrito_optimization_game/util/show_map.py')\n",
    "with open('show_map.py', 'w') as f:\n",
    "    f.write(r.text)\n",
    "from show_map import show_map\n",
    "\n",
    "show_map(buildings, building_names, building_coordinates, demand, truck_coordinates)"
   ]
  },
  {
   "cell_type": "markdown",
   "id": "african-inventory",
   "metadata": {},
   "source": [
    "---\n",
    "\n",
    "## 2. Begin building the model\n",
    "In the next four steps, we will be creating the following model:\n",
    "\n",
    "$$\n",
    "\\begin{align*}\n",
    "{\\rm maximize} & \\quad \\displaystyle \\sum_{b\\in \\mathcal{B}}   \\  \\displaystyle \\sum_{t\\in \\mathcal{T}}  \\  ( r - k) \\alpha_{bt} d_b  y_{bt} - \\displaystyle \\sum_{t\\in \\mathcal{T}} f_t  x_t \\\\ \\\\\n",
    "{\\rm s.t.} & \\quad y_{bt} \\leq x_t & \\quad \\forall b\\in {\\mathcal{B}} ,t\\in {\\mathcal{T}}  \\\\ \n",
    "& \\quad \\displaystyle \\sum_{t\\in \\mathcal{T}} y_{bt} \\leq 1 & \\quad \\forall b\\in {\\mathcal{B}}  \\\\\n",
    "& \\quad x_t, y_{bt} \\in \\{0,1\\} &  \\quad \\forall b\\in {\\mathcal{B}} ,t\\in {\\mathcal{T}}  \\\\ \\\\\n",
    "\\end{align*}\n",
    "$$\n",
    "\n",
    "where we have two sets (created above):\n",
    "\n",
    "$$\n",
    "\\begin{align*}\n",
    "\\mathcal{T} & \\quad \\text{is the set of available truck spots } \\ t & \\quad \\texttt{truck}\\_ \\texttt{spots} \\\\ \n",
    "\\mathcal{B} & \\quad \\text{is the set of buildings with customer demand } \\ b & \\quad \\texttt{buildings} \\\\ \\\\\n",
    "\\end{align*}\n",
    "$$\n",
    "\n",
    "and the following decision variables:\n",
    "\n",
    "$$\n",
    "\\begin{align*}\n",
    "x_t & \\quad \\text{is 1 if a truck is placed at truck spot } t\\in \\mathcal{T}  \\text{; 0 otherwise.} & \\quad \\texttt{x}\\_ \\texttt{placed[t]} \\\\\n",
    "y_{bt} & \\quad \\text{is 1 if truck } t\\in\\mathcal{T} \\text{ serves burritos to customers from building } b\\in \\mathcal{B} \\text{; 0 otherwise.} & \\quad \\texttt{y}\\_ \\texttt{served[b,t]} \\\\ \\\\\n",
    "\\end{align*}\n",
    "$$\n",
    "\n",
    "\n",
    "and the following scalars and data structures (created above):\n",
    "\n",
    "$$\n",
    "\\begin{align*}\n",
    "r & \\quad \\text{is the revenue from each burrito in ₲ per burrito.}  & \\quad \\texttt{burrito}\\_ \\texttt{price} \\\\\n",
    "k & \\quad \\text{is the ingredient cost for each burrito in ₲ per burrito} & \\quad \\texttt{ingredient}\\_ \\texttt{cost} \\\\\n",
    "\\alpha_{bt},d_b & \\quad \\text{are the demand multiplier and demand. These have been combined into one scaled demand.} & \\quad \\texttt{scaled}\\_ \\texttt{demand[b,t]} \\\\ \n",
    "f_t & \\quad \\text{ is the cost to place a truck for the day} & \\quad \\texttt{truck}\\_ \\texttt{cost}\\\\\n",
    "\\end{align*}\n",
    "$$"
   ]
  },
  {
   "cell_type": "markdown",
   "id": "current-environment",
   "metadata": {},
   "source": [
    "To start, we will need to create the [model()](https://www.gurobi.com/documentation/9.5/refman/py_model2.html) object in Gurobi.  The Model object holds a single optimization problem. It consists of a set of variables, a set of constraints, and the objective function.\n",
    "\n",
    "*Tip: For python to know to call a `gurobipy` function, you will need to start with `gp` because this is how we defined it above. For example, if you want to call `functionname()`, you would use `gp.functionname()`.*"
   ]
  },
  {
   "cell_type": "code",
   "execution_count": null,
   "id": "empirical-representative",
   "metadata": {},
   "outputs": [],
   "source": [
    "# Declare and initialize model\n",
    "model = gp.Model(\"Burrito Optimization Game\")"
   ]
  },
  {
   "cell_type": "markdown",
   "id": "closed-negative",
   "metadata": {},
   "source": [
    "---\n",
    "\n",
    "## 3. Add Decision variables\n",
    "To solve the Burrito Optimization Game problem, we need to identify where we will place our trucks.  Each truck can only be placed in an available truck spot.  We also need to know which buildings will be served by which truck.  Here are the two variables we are creating:\n",
    "\n",
    "- `x_placed[t]` is 1 if we place a truck at truck spot `t`, otherwise `x_placed[t]` is 0\n",
    "- `y_served[b,t]` is 1 if building `b` is served by a truck placed at truck spot `t`, otherwise `y_served[b,t]` is 0\n",
    "\n",
    "Here we are creating variables using [addVars()](https://www.gurobi.com/documentation/current/refman/py_model_addvars.html#pythonmethod:Model.addVars) function for `x_placed` and `y_served`."
   ]
  },
  {
   "cell_type": "code",
   "execution_count": null,
   "id": "independent-throat",
   "metadata": {},
   "outputs": [],
   "source": [
    "# Create decision variables for the Burrito Optimization Game model\n",
    "x_placed = model.addVars(truck_spots, vtype=GRB.BINARY, name=\"x_placed\")\n",
    "y_served = model.addVars(building_truck_spot_pairs, vtype=GRB.BINARY, name=\"y_served\")"
   ]
  },
  {
   "cell_type": "markdown",
   "id": "beginning-weather",
   "metadata": {},
   "source": [
    "---\n",
    "## 4. Add Constraints\n",
    "We will now begin adding the constraints that define our problem.\n"
   ]
  },
  {
   "cell_type": "markdown",
   "id": "single-preparation",
   "metadata": {},
   "source": [
    "### Truck must be open at a truck_spot to serve the customer\n",
    "Here we must ensure that a truck exists in a truck spot if a customer is served there. No truck, no burrito : (.\n",
    "\n",
    "In the next cell, we will create these constraints in one call to [addConstrs()](https://www.gurobi.com/documentation/current/refman/py_model_addconstrs.html) to add to the model\n",
    "\n",
    "$$\n",
    "\\begin{align*}\n",
    "y_{bt} \\leq x_t & \\quad \\quad \\forall b\\in {\\mathcal{B}} ,t\\in {\\mathcal{T}}  \\\\ \n",
    "\\end{align*}\n",
    "$$\n",
    "\n",
    "*Tip: There is more than one way to create these constraints.  You can add the constraints one-at-a-time using [addConstr()](https://www.gurobi.com/documentation/current/refman/py_model_addconstr.html) or with one line using [addConstrs()](https://www.gurobi.com/documentation/current/refman/py_model_addconstrs.html).  We have used the latter.*"
   ]
  },
  {
   "cell_type": "code",
   "execution_count": null,
   "id": "twelve-aviation",
   "metadata": {},
   "outputs": [],
   "source": [
    "# Create truck-must-exist constraints\n",
    "cons1 = model.addConstrs((y_served[b,t] <= x_placed[t] \n",
    "                          for b,t in building_truck_spot_pairs), \n",
    "                          name = \"Ensure_truck_spot_open_to_serve\")"
   ]
  },
  {
   "cell_type": "markdown",
   "id": "designed-hopkins",
   "metadata": {},
   "source": [
    "### Only one truck per customer at a given building\n",
    "\n",
    "The customers from one building will all be served by up to one truck. \n",
    "$$\n",
    "\\begin{align*}\n",
    "\\displaystyle \\sum_{t\\in \\mathcal{T}} y_{bt} \\leq 1 & \\quad \\quad \\forall b\\in {\\mathcal{B}}  \\\\\n",
    "\\end{align*}\n",
    "$$\n",
    "\n",
    "Here we are using the y_served.[sum()](https://www.gurobi.com/documentation/current/refman/py_tupledict_sum.html) function to make it easy to do a summation over a variable."
   ]
  },
  {
   "cell_type": "code",
   "execution_count": null,
   "id": "considerable-appraisal",
   "metadata": {},
   "outputs": [],
   "source": [
    "# Create only one truck per customers at building constraint\n",
    "cons2 = model.addConstrs((y_served.sum(b,'*') <= 1 for b in buildings), \n",
    "                         name=\"Ensure_one_truck_per_customers_at_building\")"
   ]
  },
  {
   "cell_type": "markdown",
   "id": "confidential-imagination",
   "metadata": {},
   "source": [
    "---\n",
    "## 5. Set the objective\n",
    "The objective is to maximize the total profit.  \n",
    "\n",
    "To set the objective, we will first define the revenue using a nested summation.  This can be accomplished using the function.  For convenience and readability, we will split the objective into the burrito revenue and truck costs:\n",
    "\n",
    "$$\n",
    "\\begin{align*}\n",
    "{\\rm maximize} & \\quad \\displaystyle \\sum_{b\\in \\mathcal{B}}   \\  \\displaystyle \\sum_{t\\in \\mathcal{T}}  \\  ( r - k) \\alpha_{bt} d_b  y_{bt} - \\displaystyle \\sum_{t\\in \\mathcal{T}} f_t  x_t \\\\ \\\\\n",
    "\\end{align*}\n",
    "$$\n",
    "\n",
    "Here, we are only creating new linear expressions, not new variables. Then we will use the [setObjective()](https://www.gurobi.com/documentation/current/refman/py_model_setobjective.html) method to set the objective."
   ]
  },
  {
   "cell_type": "code",
   "execution_count": null,
   "id": "contrary-documentary",
   "metadata": {},
   "outputs": [],
   "source": [
    "# Objective: maximize total profit = burrito_revenue - total_truck_cost\n",
    "burrito_revenue = (burrito_price - ingredient_cost)*y_served.prod(scaled_demand) # This is the nested summation\n",
    "total_truck_cost = truck_cost*x_placed.sum('*')\n",
    "\n",
    "model.setObjective(burrito_revenue - total_truck_cost, GRB.MAXIMIZE)"
   ]
  },
  {
   "cell_type": "markdown",
   "id": "lightweight-shipping",
   "metadata": {},
   "source": [
    "### Celebrate and check your work"
   ]
  },
  {
   "cell_type": "code",
   "execution_count": null,
   "id": "alike-turning",
   "metadata": {},
   "outputs": [],
   "source": [
    "model.write('burritogame.lp')"
   ]
  },
  {
   "cell_type": "markdown",
   "id": "killing-enforcement",
   "metadata": {},
   "source": [
    "---\n",
    "## 6. Solve the model \n",
    "We use the [optimize()](https://www.gurobi.com/documentation/current/refman/py_model_optimize.html) method of the Gurobi/Python API to solve the problem we have defined for the model object `model`."
   ]
  },
  {
   "cell_type": "code",
   "execution_count": null,
   "id": "computational-blair",
   "metadata": {},
   "outputs": [],
   "source": [
    "model.optimize()"
   ]
  },
  {
   "cell_type": "markdown",
   "id": "anticipated-niagara",
   "metadata": {},
   "source": [
    "Before we start digging into the solution, let's check the solution.  If the model is not optimal, check the [Optimization Status Codes](https://www.gurobi.com/documentation/current/refman/optimization_status_codes.html) page."
   ]
  },
  {
   "cell_type": "code",
   "execution_count": null,
   "id": "successful-young",
   "metadata": {},
   "outputs": [],
   "source": [
    "status = model.status\n",
    "if status == GRB.OPTIMAL:\n",
    "    print(f\"The final objective is \")\n",
    "    print(f\"     Burrito revenue        ₲{burrito_revenue.getValue()}\")\n",
    "    print(f\" -  Total truck cost     -  ₲{total_truck_cost.getValue()}\")\n",
    "    print(f\"-----------------------------------\")\n",
    "    print(f\"              Profit        ₲{model.objVal}\")\n",
    "else:\n",
    "    print(f\"Model is not optimal, status = {status}\")"
   ]
  },
  {
   "cell_type": "markdown",
   "id": "headed-breakfast",
   "metadata": {},
   "source": [
    "---\n",
    "## 7. View the solution\n"
   ]
  },
  {
   "cell_type": "code",
   "execution_count": null,
   "id": "august-inside",
   "metadata": {},
   "outputs": [],
   "source": [
    "# Plot the solution on the Burritoville Map\n",
    "placed_trucks = [t for t in x_placed if x_placed[t].X ==1]\n",
    "show_map(buildings, building_names, building_coordinates, demand, truck_coordinates, placed_trucks = placed_trucks)"
   ]
  },
  {
   "cell_type": "markdown",
   "id": "specific-cattle",
   "metadata": {},
   "source": [
    "## Before you exit, Free Gurobi resources\n",
    "It is a best practice to free Gurobi resources after you are done.  To do this, call [Model.dispose()](https://www.gurobi.com/documentation/current/refman/py_model_dispose.html#pythonmethod:Model.dispose) on all Model objects, [Env.dispose()](https://www.gurobi.com/documentation/current/refman/py_env_dispose.html#pythonmethod:Env.dispose) on any Env objects you created, or [disposeDefaultEnv()](https://www.gurobi.com/documentation/current/refman/py_disposedefaultenv.html#pythonmethod:disposeDefaultEnv) if you used the default environment instead."
   ]
  },
  {
   "cell_type": "code",
   "execution_count": null,
   "id": "waiting-terror",
   "metadata": {},
   "outputs": [],
   "source": [
    "# Free Gurobi resources\n",
    "model.dispose()\n",
    "gp.disposeDefaultEnv()"
   ]
  }
 ],
 "metadata": {
  "kernelspec": {
   "display_name": "Python 3",
   "language": "python",
   "name": "python3"
  },
  "language_info": {
   "codemirror_mode": {
    "name": "ipython",
    "version": 3
   },
   "file_extension": ".py",
   "mimetype": "text/x-python",
   "name": "python",
   "nbconvert_exporter": "python",
   "pygments_lexer": "ipython3",
   "version": "3.9.2"
  }
 },
 "nbformat": 4,
 "nbformat_minor": 5
}
