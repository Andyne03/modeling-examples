{
 "cells": [
  {
   "cell_type": "markdown",
   "id": "df92bca2",
   "metadata": {
    "slideshow": {
     "slide_type": "slide"
    }
   },
   "source": [
    "# Gurobi Python API\n",
    "\n",
    "###### Gurobi Days Digital\n",
    "##### June 1, 2023\n",
    "###### Maliheh Aramon, PhD, Optimization Engineer\n",
    "###### aramon@gurobi.com"
   ]
  },
  {
   "cell_type": "markdown",
   "id": "b4815816",
   "metadata": {
    "slideshow": {
     "slide_type": "slide"
    }
   },
   "source": [
    "## How to Run the Notebook locally?\n",
    "- Clone the repository containing this and other examples or download it\n",
    "by clicking [here](https://github.com/Gurobi/modeling-examples/archive/refs/heads/master.zip)\n",
    "- Navigate to folder __gurobi_days_digital_2023/intro_to_gurobipy__\n",
    "- [Start Jupyter Notebook Server](https://docs.jupyter.org/en/latest/running.html#id2)\n",
    "- Open the notebook in Jupyter Notebook\n",
    "- The notebook will install the gurobipy package and other dependencies. The Gurobi\n",
    "  pip package includes a size-limited trial license that will allow you to\n",
    "  run the notebook"
   ]
  },
  {
   "cell_type": "code",
   "execution_count": 1,
   "id": "753ca77d",
   "metadata": {
    "slideshow": {
     "slide_type": "slide"
    }
   },
   "outputs": [
    {
     "name": "stdout",
     "output_type": "stream",
     "text": [
      "Requirement already satisfied: gurobipy>=10.0 in /Users/aramon/git/modeling-examples/.venv/lib/python3.11/site-packages (10.0.1)\n",
      "\n",
      "\u001b[1m[\u001b[0m\u001b[34;49mnotice\u001b[0m\u001b[1;39;49m]\u001b[0m\u001b[39;49m A new release of pip available: \u001b[0m\u001b[31;49m22.3\u001b[0m\u001b[39;49m -> \u001b[0m\u001b[32;49m23.1.2\u001b[0m\n",
      "\u001b[1m[\u001b[0m\u001b[34;49mnotice\u001b[0m\u001b[1;39;49m]\u001b[0m\u001b[39;49m To update, run: \u001b[0m\u001b[32;49mpip install --upgrade pip\u001b[0m\n",
      "Note: you may need to restart the kernel to use updated packages.\n",
      "Requirement already satisfied: numpy in /Users/aramon/git/modeling-examples/.venv/lib/python3.11/site-packages (1.24.3)\n",
      "\n",
      "\u001b[1m[\u001b[0m\u001b[34;49mnotice\u001b[0m\u001b[1;39;49m]\u001b[0m\u001b[39;49m A new release of pip available: \u001b[0m\u001b[31;49m22.3\u001b[0m\u001b[39;49m -> \u001b[0m\u001b[32;49m23.1.2\u001b[0m\n",
      "\u001b[1m[\u001b[0m\u001b[34;49mnotice\u001b[0m\u001b[1;39;49m]\u001b[0m\u001b[39;49m To update, run: \u001b[0m\u001b[32;49mpip install --upgrade pip\u001b[0m\n",
      "Note: you may need to restart the kernel to use updated packages.\n",
      "Requirement already satisfied: scipy in /Users/aramon/git/modeling-examples/.venv/lib/python3.11/site-packages (1.10.1)\n",
      "Requirement already satisfied: numpy<1.27.0,>=1.19.5 in /Users/aramon/git/modeling-examples/.venv/lib/python3.11/site-packages (from scipy) (1.24.3)\n",
      "\n",
      "\u001b[1m[\u001b[0m\u001b[34;49mnotice\u001b[0m\u001b[1;39;49m]\u001b[0m\u001b[39;49m A new release of pip available: \u001b[0m\u001b[31;49m22.3\u001b[0m\u001b[39;49m -> \u001b[0m\u001b[32;49m23.1.2\u001b[0m\n",
      "\u001b[1m[\u001b[0m\u001b[34;49mnotice\u001b[0m\u001b[1;39;49m]\u001b[0m\u001b[39;49m To update, run: \u001b[0m\u001b[32;49mpip install --upgrade pip\u001b[0m\n",
      "Note: you may need to restart the kernel to use updated packages.\n"
     ]
    }
   ],
   "source": [
    "%pip install \"gurobipy>=10.0\"\n",
    "\n",
    "# Install other dependencies\n",
    "%pip install numpy\n",
    "%pip install scipy"
   ]
  },
  {
   "cell_type": "markdown",
   "id": "d247cb27",
   "metadata": {
    "slideshow": {
     "slide_type": "slide"
    }
   },
   "source": [
    "# Gurobi Python API\n",
    "\n",
    "Gurobi Python API, also known as _gurobipy_ is the most popular Gurobi API because it allows building the model with\n",
    "- individual variables and constraints like other Guorbi's object-oriented APIs such as C, C++, Java, and .NET\n",
    "- matrices like other Gurobi's matrix-oriented interfaces such as MATLAB and R\n",
    "- more detailed mathematical syntax like traditional modeling languages\n",
    "\n",
    "In this workshop, we will walk you through the basics of the Gurobi Python API and implement a few optimization models together using the Gurobi Python API."
   ]
  },
  {
   "cell_type": "markdown",
   "id": "287f3155",
   "metadata": {
    "slideshow": {
     "slide_type": "slide"
    }
   },
   "source": [
    "## How to Install gurobipy?\n",
    "\n",
    "There are three main approaches to install gurobipy on any operating systems such as Linux, Windows, or macOS.\n",
    "\n",
    "- [Pip](https://www.gurobi.com/documentation/10.0/quickstart_mac/cs_using_pip_to_install_gr.html#subsubsection:pip)\n",
    "- [Conda](https://www.gurobi.com/documentation/10.0/quickstart_mac/cs_anaconda_and_grb_conda_.html#subsubsection:Anaconda)\n",
    "- [Manual installation via the Gurobi distribution package](https://www.gurobi.com/documentation/10.0/quickstart_mac/cs_manual_installation.html#subsubsection:manualinstall)\n",
    "\n",
    "Relevant Knowledge Base (KB) articles:\n",
    "- [Which Python versions are supported by Gurobi?](https://support.gurobi.com/hc/en-us/articles/360013195212)\n",
    "- [How do I install Gurobi for Python?](https://support.gurobi.com/hc/en-us/articles/360044290292-How-do-I-install-Gurobi-for-Python-)"
   ]
  },
  {
   "cell_type": "markdown",
   "id": "fe9e495b",
   "metadata": {
    "slideshow": {
     "slide_type": "slide"
    }
   },
   "source": [
    "## Optimization Models \n",
    "\n",
    "The canonical form of optimization models Gurobi can handle is given below:\n",
    "\n",
    "\\begin{align}\n",
    "\\mbox{Model P:} ~~~~ \\mbox{minimize} \\quad & x^T Q x + c^T x + d &  \\notag \\\\\n",
    "\\mbox{subject to} \\quad & Ax = b & \\notag & \\notag \\\\\n",
    "                        & x^T Q_i x + c_i^T x \\leq d_i & \\forall i \\in I \\notag \\\\\n",
    "                        & l \\leq x \\leq u & \\notag \\\\\n",
    "                        & x_j \\in \\mathbb{Z} & \\forall j \\in J \n",
    "\\end{align}\n",
    "\n",
    "In this tutorial, we would learn how to map the above math constructs to code using gurobipy.\n",
    "\n",
    "Each mathematical model has four main elements: __Data + Decision variables + Constraints + Objective function(s)__"
   ]
  },
  {
   "cell_type": "markdown",
   "id": "f68110b5",
   "metadata": {
    "slideshow": {
     "slide_type": "fragment"
    }
   },
   "source": [
    "## Exercise 1: Model Elements\n",
    "    \n",
    "Identify data, decision variables, constraints, and objective function in model P.\n",
    "\n",
    "<br>\n",
    "<details>\n",
    "<summary><b>To see the answer click here</b></summary>\n",
    "    \n",
    "<br> \n",
    "1. Data:\n",
    "\\begin{align}\n",
    "& \\mbox{Sets:}~~ I, J & \\notag \\\\ \n",
    "& \\mbox{Objective/constraints coefficients:}~~ Q, c, A, Q_i, c_i \\notag &\\\\ \n",
    "& \\mbox{RHS values:}~~ b, d_i & \\notag \\\\ \n",
    "& \\mbox{Lower and upper bounds:}~~ l, u & \\notag \\\\ \n",
    "& \\mbox{Constants:}~~ d & \\notag\n",
    "\\end{align}\n",
    "\n",
    "<br>\n",
    "2. Decision variables: $x$\n",
    "\n",
    "<br>\n",
    "3. Constraints: $Ax = b$ and $x^T Q_i x + c_i^T x \\leq d_i$\n",
    "\n",
    "<br>\n",
    "4. Objective function: $x^T Q x + c^T x + d$"
   ]
  },
  {
   "cell_type": "markdown",
   "id": "d97b6242",
   "metadata": {
    "slideshow": {
     "slide_type": "slide"
    }
   },
   "source": [
    "## Simple Example\n",
    "Let us start with a simple example:\n",
    "\n",
    "\\begin{align}\n",
    "\\mbox{maximize} \\quad & x + y + 2z \\notag \\\\\n",
    "\\mbox{subject to} \\quad & x + 2y + 3z \\leq 4 \\notag \\\\\n",
    "                        & x + y \\geq 1 \\notag \\\\\n",
    "                        & x, y, z \\in \\{0, 1\\} \\notag\n",
    "\\end{align}"
   ]
  },
  {
   "cell_type": "code",
   "execution_count": 2,
   "id": "985298bc",
   "metadata": {
    "code_folding": [
     22
    ],
    "slideshow": {
     "slide_type": "fragment"
    }
   },
   "outputs": [
    {
     "name": "stdout",
     "output_type": "stream",
     "text": [
      "Restricted license - for non-production use only - expires 2024-10-28\n",
      "Gurobi Optimizer version 10.0.1 build v10.0.1rc0 (mac64[arm])\n",
      "\n",
      "CPU model: Apple M1\n",
      "Thread count: 8 physical cores, 8 logical processors, using up to 8 threads\n",
      "\n",
      "Optimize a model with 2 rows, 3 columns and 5 nonzeros\n",
      "Model fingerprint: 0x98886187\n",
      "Variable types: 0 continuous, 3 integer (3 binary)\n",
      "Coefficient statistics:\n",
      "  Matrix range     [1e+00, 3e+00]\n",
      "  Objective range  [1e+00, 2e+00]\n",
      "  Bounds range     [1e+00, 1e+00]\n",
      "  RHS range        [1e+00, 4e+00]\n",
      "Found heuristic solution: objective 2.0000000\n",
      "Presolve removed 2 rows and 3 columns\n",
      "Presolve time: 0.00s\n",
      "Presolve: All rows and columns removed\n",
      "\n",
      "Explored 0 nodes (0 simplex iterations) in 0.01 seconds (0.00 work units)\n",
      "Thread count was 1 (of 8 available processors)\n",
      "\n",
      "Solution count 2: 3 2 \n",
      "\n",
      "Optimal solution found (tolerance 1.00e-04)\n",
      "Best objective 3.000000000000e+00, best bound 3.000000000000e+00, gap 0.0000%\n",
      "******* Solution *******\n",
      "x: 1.0\n",
      "y: 0.0\n",
      "z: 1.0\n",
      "************************\n"
     ]
    }
   ],
   "source": [
    "# Import gurobipy package as gp for convenience\n",
    "import gurobipy as gp\n",
    "\n",
    "# GRB is the list of all Gurobi constants\n",
    "from gurobipy import GRB\n",
    "\n",
    "# Create a Gurobi environment and a model object\n",
    "with gp.Env() as env, gp.Model(\"simple-example\", env=env) as model:\n",
    "    # Define decision variables\n",
    "    x = model.addVar(vtype=GRB.BINARY, name=\"x\")\n",
    "    y = model.addVar(vtype=GRB.BINARY, name=\"y\")\n",
    "    z = model.addVar(vtype=GRB.BINARY, name=\"z\")\n",
    "\n",
    "    # Define constraints\n",
    "    model.addConstr(x + 2 * y + 3 * z <= 4, name=\"c0\")\n",
    "    model.addConstr(x + y >= 1, name=\"c1\")\n",
    "\n",
    "    # Define objective\n",
    "    model.setObjective(x + y + 2 * z, sense=GRB.MAXIMIZE)\n",
    "\n",
    "    # Optimize model\n",
    "    model.optimize()\n",
    "\n",
    "    print(\"******* Solution *******\")\n",
    "    for var in model.getVars():\n",
    "        print(f\"{var.VarName}: {var.X}\")\n",
    "    print(\"************************\")"
   ]
  },
  {
   "cell_type": "markdown",
   "id": "782dd74c",
   "metadata": {
    "slideshow": {
     "slide_type": "slide"
    }
   },
   "source": [
    "## Python Data Structures\n",
    "\n",
    "- Tuple: An ordered, compound grouping that cannot be modified once it is created and it is ideal for representing multi dimensional subscripts.\n",
    "    ```\n",
    "        (\"city_0\", \"city_1\")\n",
    "    ```\n",
    "- List: An ordered group, so each item is indexed. Lists can be modified by adding, deleting or sorting elements.\n",
    "    ```\n",
    "        [\"city_0\", \"city_1\", \"city_2\"]\n",
    "     ```\n",
    "- Set: An unordered group of unique elements. Sets can only be modified by adding or deleting.\n",
    "    ```\n",
    "        {\"city_0\", \"city_1\", \"city_2\"}\n",
    "    ```\n",
    "- Dictionary: A key-value pair mapping that is ideal for representing indexed data such as cost, demand, capacity.\n",
    "    ```\n",
    "        damand = {\"city_0\": 100, \"city_1\": 50, \"city_2\": 40}\n",
    "    ```"
   ]
  },
  {
   "cell_type": "markdown",
   "id": "521221e8",
   "metadata": {
    "slideshow": {
     "slide_type": "slide"
    }
   },
   "source": [
    " ## Extented Data Structures in Gurobi Python API\n",
    " \n",
    " - [tuplelist()](https://www.gurobi.com/documentation/10.0/refman/py_tuplelist.html)\n",
    "     - A sub-class of Python list \n",
    "     - Important methods to build sub-lists efficiently \n",
    "         - [tuplelist.select(pattern)](https://www.gurobi.com/documentation/10.0/refman/py_tuplelist_select.html) --> tuplelist()\n",
    "     \n",
    " \n",
    " \n",
    "- [tupledict()](https://www.gurobi.com/documentation/10.0/refman/py_tupledict.html)\n",
    "    - A sub-class of Python dict\n",
    "    - The keys of a tupledict() are stored as tuplelist() and the values are Gurobi variable objects\n",
    "    - Important methods to build linear expressions efficiently:\n",
    "        - [tupledict.select(pattern)](https://www.gurobi.com/documentation/10.0/refman/py_tupledict_select.html) --> List\n",
    "        - [tupledict.sum(pattern)](https://www.gurobi.com/documentation/10.0/refman/py_tupledict_sum.html) --> LinExpr()\n",
    "        - [tupledict.prod(coeff, pattern)](https://www.gurobi.com/documentation/10.0/refman/py_tupledict_prod.html) --> LinExpr()\n",
    "    \n",
    "    \n",
    "- [multidict()](https://www.gurobi.com/documentation/10.0/refman/py_multidict.html): A convenience function to define multiple dictionaries in one statement."
   ]
  },
  {
   "cell_type": "code",
   "execution_count": 3,
   "id": "4052c122",
   "metadata": {
    "slideshow": {
     "slide_type": "fragment"
    }
   },
   "outputs": [
    {
     "name": "stdout",
     "output_type": "stream",
     "text": [
      "data: {('a', 'b', 'c'): 3, ('a', 'c', 'b'): 4, ('b', 'a', 'c'): 5, ('b', 'c', 'a'): 6, ('c', 'a', 'b'): 7, ('c', 'b', 'a'): 3}\n",
      "\n",
      "Tuplelist:\n",
      "\tselect: <gurobi.tuplelist (2 tuples, 3 values each):\n",
      " ( a , b , c )\n",
      " ( a , c , b )\n",
      ">\n",
      "\n",
      "Tupledict:\n",
      "\tselect  : [3, 4]\n",
      "\tsum     : 28.0\n",
      "\tprod    : 0.0\n",
      "\n",
      "Multidict:\n",
      "\tcost: {('Detroit ', 'Boston '): 7, ('Detroit ', 'New York '): 5, ('Detroit ', 'Seattle '): 4, ('Denver ', 'Boston '): 8, ('Denver ', 'New York '): 11, ('Denver ', 'Seattle '): 4}\n",
      "\n",
      "\n",
      "\tcapacity: {('Detroit ', 'Boston '): 100, ('Detroit ', 'New York '): 80, ('Detroit ', 'Seattle '): 120, ('Denver ', 'Boston '): 120, ('Denver ', 'New York '): 120, ('Denver ', 'Seattle '): 120}\n"
     ]
    }
   ],
   "source": [
    "import gurobipy as gp\n",
    "from gurobipy import GRB\n",
    "\n",
    "data = gp.tupledict(\n",
    "    [\n",
    "        ((\"a\", \"b\", \"c\"), 3),\n",
    "        ((\"a\", \"c\", \"b\"), 4),\n",
    "        ((\"b\", \"a\", \"c\"), 5),\n",
    "        ((\"b\", \"c\", \"a\"), 6),\n",
    "        ((\"c\", \"a\", \"b\"), 7),\n",
    "        ((\"c\", \"b\", \"a\"), 3),\n",
    "    ]\n",
    ")\n",
    "print(f\"data: {data}\")\n",
    "\n",
    "print(\"\\nTuplelist:\")\n",
    "keys = data.keys()\n",
    "print(f\"\\tselect: {keys.select('a', '*', '*')}\")\n",
    "\n",
    "print(\"\\nTupledict:\")\n",
    "print(f\"\\tselect  : {data.select('a', '*', '*')}\")\n",
    "print(f\"\\tsum     : {data.sum('*', '*', '*')}\")\n",
    "coeff = {(\"a\", \"c\", \"b\"): 6, (\"b\", \"c\", \"a\"): -4}\n",
    "print(f\"\\tprod    : {data.prod(coeff, '*', 'c', '*')}\")\n",
    "\n",
    "\n",
    "arcs, capacity, cost = gp.multidict(\n",
    "    {\n",
    "        (\"Detroit \", \"Boston \"): [100, 7],\n",
    "        (\"Detroit \", \"New York \"): [80, 5],\n",
    "        (\"Detroit \", \"Seattle \"): [120, 4],\n",
    "        (\"Denver \", \"Boston \"): [120, 8],\n",
    "        (\"Denver \", \"New York \"): [120, 11],\n",
    "        (\"Denver \", \"Seattle \"): [120, 4],\n",
    "    }\n",
    ")\n",
    "print(\"\\nMultidict:\")\n",
    "print(f\"\\tcost: {cost}\")\n",
    "print(\"\\n\")\n",
    "print(f\"\\tcapacity: {capacity}\")"
   ]
  },
  {
   "cell_type": "markdown",
   "id": "e14650dd",
   "metadata": {
    "slideshow": {
     "slide_type": "slide"
    }
   },
   "source": [
    "## [Environments](https://www.gurobi.com/documentation/10.0/refman/py_env2.html)\n",
    "\n",
    "```\n",
    "+--------------------------------------------+\n",
    "| Environment                                |\n",
    "| +----------------------------------------+ |\n",
    "| | Model                                  | |\n",
    "| | +------+ +-----------+ +-------------+ | | \n",
    "| | | Data | | Variables | | Constraints | | |\n",
    "| | +------+ +-----------+ +-------------+ | |\n",
    "| | +-----------+                          | |\n",
    "| | | Objective |                          | |\n",
    "| | +-----------+                          | |\n",
    "| +----------------------------------------+ |\n",
    "+--------------------------------------------+  \n",
    "```\n",
    "\n",
    "Python API has a default environment which is used by default unless a new environment is created and explicitly passed to the routines that require an environment.\n",
    "\n",
    "The main reason to create an environment is to have control over when your application starts using Gurobi and when it stops using it! \n",
    "- Using remote resources such as floating, cloud, or compute server licenses for optimization\n",
    "- Garbage collection when using Jupyter notebooks\n",
    "\n",
    "Note: It is better to create new environments via the context manager"
   ]
  },
  {
   "cell_type": "code",
   "execution_count": 4,
   "id": "de7bf00e",
   "metadata": {
    "slideshow": {
     "slide_type": "fragment"
    }
   },
   "outputs": [
    {
     "name": "stdout",
     "output_type": "stream",
     "text": [
      "Set parameter CloudAccessID\n",
      "Set parameter CloudSecretKey\n",
      "Set parameter LicenseID to value 2368807\n"
     ]
    },
    {
     "ename": "GurobiError",
     "evalue": "License 2368807 has expired",
     "output_type": "error",
     "traceback": [
      "\u001b[0;31m---------------------------------------------------------------------------\u001b[0m",
      "\u001b[0;31mGurobiError\u001b[0m                               Traceback (most recent call last)",
      "Cell \u001b[0;32mIn[4], line 8\u001b[0m\n\u001b[1;32m      6\u001b[0m env\u001b[38;5;241m.\u001b[39msetParam(\u001b[38;5;124m\"\u001b[39m\u001b[38;5;124mCloudSecretKey\u001b[39m\u001b[38;5;124m\"\u001b[39m, \u001b[38;5;124m\"\u001b[39m\u001b[38;5;124mNGM2YjY5ZjItMGU4Mi00YT\u001b[39m\u001b[38;5;124m\"\u001b[39m)\n\u001b[1;32m      7\u001b[0m env\u001b[38;5;241m.\u001b[39msetParam(\u001b[38;5;124m\"\u001b[39m\u001b[38;5;124mLicenseID\u001b[39m\u001b[38;5;124m\"\u001b[39m, \u001b[38;5;241m2368807\u001b[39m)\n\u001b[0;32m----> 8\u001b[0m \u001b[43menv\u001b[49m\u001b[38;5;241;43m.\u001b[39;49m\u001b[43mstart\u001b[49m\u001b[43m(\u001b[49m\u001b[43m)\u001b[49m\n",
      "File \u001b[0;32msrc/gurobipy/env.pxi:459\u001b[0m, in \u001b[0;36mgurobipy.Env.start\u001b[0;34m()\u001b[0m\n",
      "\u001b[0;31mGurobiError\u001b[0m: License 2368807 has expired"
     ]
    }
   ],
   "source": [
    "import gurobipy as gp\n",
    "\n",
    "with gp.Env(empty=True) as env:\n",
    "    # Setting license parameters\n",
    "    env.setParam(\"CloudAccessID\", \"8a9b9503-5532-456e-a5d5-4f1f1a4549d9\")\n",
    "    env.setParam(\"CloudSecretKey\", \"NGM2YjY5ZjItMGU4Mi00YT\")\n",
    "    env.setParam(\"LicenseID\", 2368807)\n",
    "    env.start()"
   ]
  },
  {
   "cell_type": "markdown",
   "id": "a39c946c",
   "metadata": {
    "slideshow": {
     "slide_type": "slide"
    }
   },
   "source": [
    "## [Model](https://www.gurobi.com/documentation/10.0/refman/py_model.html)\n",
    "Model building in the [Python API](https://www.gurobi.com/documentation/10.0/refman/py_python_api_overview.html) is object oriented. The reference manual contains [a full list of methods](https://www.gurobi.com/documentation/10.0/refman/py_python_api_details.html#sec:Python-details) on a model object. \n",
    "\n",
    "The signature for constructing a model object is:\n",
    "```\n",
    "Model(name=\"\", env=defaultEnv)\n",
    "```"
   ]
  },
  {
   "cell_type": "code",
   "execution_count": null,
   "id": "e52bfe37",
   "metadata": {
    "slideshow": {
     "slide_type": "fragment"
    }
   },
   "outputs": [],
   "source": [
    "import gurobipy as gp\n",
    "\n",
    "# Build a model object with the default environment\n",
    "with gp.Model(name=\"model\") as model:\n",
    "    pass\n",
    "\n",
    "# Build a model object with a new environment\n",
    "with gp.Env() as env, gp.Model(name=\"model\", env=env) as model:\n",
    "    pass"
   ]
  },
  {
   "cell_type": "markdown",
   "id": "b4b2e89b",
   "metadata": {
    "slideshow": {
     "slide_type": "slide"
    }
   },
   "source": [
    "## Decision Variables\n",
    "\n",
    "Since variables are associated with a particular model object, use the [Model.addVar()](https://www.gurobi.com/documentation/10.0/refman/py_model_addvar.html#pythonmethod:Model.addVar) method to create a Gurobi variable object ([Var](https://www.gurobi.com/documentation/10.0/refman/py_var.html)):\n",
    "```\n",
    "Model.addVar(lb=0, ub=float(\"inf\"), obj=0, vtype=GRB.CONTINUOUS, name=\"\", column=None)\n",
    "```\n",
    "\n",
    "The available variable types in Gurobi are:\n",
    "- Continuous: `GRB.CONTINUOUS`\n",
    "- General integer: `GRB.INTEGER`\n",
    "- Binary: `GRB.BINARY`\n",
    "- Semi-continuous: `GRB.SEMICONT`\n",
    "- Semi-integer: `GRB.SEMIINT`\n",
    "\n",
    "A semi-continuous variable has the property that it takes a value of 0, or a value between the specified lower and upper bounds. A semi-integer variable adds the additional restriction that the variable should take an integral value."
   ]
  },
  {
   "cell_type": "code",
   "execution_count": null,
   "id": "5a1f9012",
   "metadata": {
    "slideshow": {
     "slide_type": "fragment"
    }
   },
   "outputs": [],
   "source": [
    "import gurobipy as gp\n",
    "from gurobipy import GRB\n",
    "\n",
    "with gp.Model(name=\"model\") as model:\n",
    "    # Define a binary decision variable\n",
    "    x = model.addVar(vtype=GRB.BINARY, name=\"x\")\n",
    "    # Define an integer variable with lb=-1, ub=100\n",
    "    # 4*u <= y <= 100*u\n",
    "    y = model.addVar(lb=-1, ub=100, vtype=GRB.SEMIINT, name=\"y\")\n",
    "    model.addConstr(y == 101)\n",
    "    model.optimize()"
   ]
  },
  {
   "cell_type": "markdown",
   "id": "eea3ff89",
   "metadata": {
    "slideshow": {
     "slide_type": "slide"
    }
   },
   "source": [
    "## [Model.addVars()](https://www.gurobi.com/documentation/10.0/refman/py_model_addvars.html#pythonmethod:Model.addVar)\n",
    "\n",
    "To add multiple decision variables to the model, use the Model.addVars() method which returns a Gurobi tupledict object containing the newly created variables:\n",
    "```\n",
    "Model.addVars(*indices, lb=0.0, ub=float('inf'), obj=0.0, vtype=GRB.CONTINUOUS, name=\"\")\n",
    "```\n",
    "The first argument is indices for accessing the variables:\n",
    "- Integers\n",
    "- lists of scalars\n",
    "- tuplelist\n",
    "- generator\n",
    "\n",
    "The given name is subscripted by the index of the generator expression. \n",
    "- The names are stored as ASCII strings \n",
    "    - avoid using names that contain non-ASCII characters and spaces"
   ]
  },
  {
   "cell_type": "code",
   "execution_count": null,
   "id": "7ff0dfb1",
   "metadata": {
    "slideshow": {
     "slide_type": "fragment"
    }
   },
   "outputs": [],
   "source": [
    "import gurobipy as gp\n",
    "from gurobipy import GRB\n",
    "\n",
    "with gp.Model(name=\"model\") as model:\n",
    "    # 3D array of binary variables\n",
    "    x = model.addVars(2, 3, 4, vtype=GRB.BINARY, name=\"x\")\n",
    "    model.update()\n",
    "    print(model.getAttr(\"VarName\", model.getVars()))\n",
    "\n",
    "    # Use arbitrary lists of immutable objects to create a tupledict of 6 variables\n",
    "    y = model.addVars([1, 5], [7, 3, 2], ub=range(6), name=[f\"y_{i}\" for i in range(6)])\n",
    "    model.update()\n",
    "    print(\"\\nVariables names, upper bounds, and indices:\")\n",
    "    for index, var in y.items():\n",
    "        print(f\"name: {var.VarName}, ub: {var.UB}, index: {index}\")\n",
    "\n",
    "    # Use arbitrary list of tuples as indices\n",
    "    z = model.addVars(\n",
    "        [(3, \"a\"), (3, \"b\"), (7, \"b\"), (7, \"c\")],\n",
    "        lb=-GRB.INFINITY,\n",
    "        ub=GRB.INFINITY,\n",
    "        name=\"z\",\n",
    "    )\n",
    "    model.update()\n",
    "    print(\"\\nVariables names and lower and upper bounds:\")\n",
    "    for index, var in z.items():\n",
    "        print(f\"name: {var.VarName}, lb: {var.LB}, ub: {var.UB}\")"
   ]
  },
  {
   "cell_type": "markdown",
   "id": "f68aeb79",
   "metadata": {
    "slideshow": {
     "slide_type": "slide"
    }
   },
   "source": [
    "## Constraints\n",
    "Like variables, constraints are also associated with a model. Use the method [Model.addConstr()](https://www.gurobi.com/documentation/10.0/refman/py_model_addconstr.html) to add a constraint to a model.\n",
    "```\n",
    "Model.addConstr(constr, name=\"\")\n",
    "```\n",
    "\n",
    "`constr` is a [TempConstr](https://www.gurobi.com/documentation/10.0/refman/py_tempconstr.html#pythonclass:TempConstr) object that can take different types:\n",
    "\n",
    "- Linear Constraint: `x + y <= 1` \n",
    "- Ranged Linear Constraint: `x + y == [1, 3]`\n",
    "- Quadratic Constraint: `x*x + y*y + x*y <= 1`\n",
    "- Linear Matrix Constraint: `A @ x <= 1`\n",
    "- Quadratic Matrix Constraint: `x @ Q @ y <= 2`\n",
    "- Absolute Value Constraint: `x == abs_(y)`\n",
    "- Logical Constraint: `x == and_(y, z)`\n",
    "- Min or Max Constraint: `z == max_(x, y, constant=9)`\n",
    "- Indicator Constraint: `(x == 1) >> (y + z <= 5)`"
   ]
  },
  {
   "cell_type": "code",
   "execution_count": null,
   "id": "9ad55a25",
   "metadata": {
    "slideshow": {
     "slide_type": "fragment"
    }
   },
   "outputs": [],
   "source": [
    "import gurobipy as gp\n",
    "from gurobipy import GRB\n",
    "\n",
    "# Add constraint \"\\sum_{i=1}^{n} x_i <= b\" for any given n and b. Assume x_i are binary variables\n",
    "n, b = 10, 4\n",
    "with gp.Model(\"model\") as model:\n",
    "    x = model.addVars(n, vtype=GRB.BINARY, name=\"x\")\n",
    "    model.addConstr(gp.quicksum(x[i] for i in range(n)) <= b, name=\"c1\")\n",
    "    model.update()\n",
    "\n",
    "    # Print the LHS, Sense, and RHS of c1\n",
    "    c1 = model.getConstrByName(\"c1\")\n",
    "    print(f\"RHS, sense = {c1.RHS}, {c1.Sense}\")\n",
    "    print(f\"row: {model.getRow(c1)}\")\n",
    "    print(\"\\n\\n\")\n",
    "\n",
    "# Add constraints \"x_i + y_j - x_i*y_j >= 3\". Asssume x_i and y_j are continuous\n",
    "n, m = 5, 4\n",
    "with gp.Model(\"model\") as model:\n",
    "    x = model.addVars(n, name=\"x\")\n",
    "    y = model.addVars(m, name=\"y\")\n",
    "\n",
    "    for i in range(n):\n",
    "        for j in range(m):\n",
    "            model.addConstr(x[i] + y[j] - x[i] * y[j] >= 3, name=f\"c_{i}{j}\")\n",
    "\n",
    "    model.update()\n",
    "\n",
    "    # Print the LHS, Sense, and RHS of all c_ij constraints\n",
    "    for c in model.getQConstrs():\n",
    "        print(f\"Name: {c.QCName}\")\n",
    "        print(f\"\\tRHS, sense = {c.QCRHS}, {c.QCSense}\")\n",
    "        print(f\"\\trow: {model.getQCRow(c)}\")"
   ]
  },
  {
   "cell_type": "markdown",
   "id": "5c10a7ef",
   "metadata": {
    "slideshow": {
     "slide_type": "slide"
    }
   },
   "source": [
    "## [Model.addConstrs](https://www.gurobi.com/documentation/10.0/refman/py_model_addconstrs.html)\n",
    "\n",
    "To add multiple constraints to the model, use the Model.addConstrs() method which returns a Gurobi tupledict that contains the newly created constraints:\n",
    "\n",
    "```\n",
    "Model.addConstrs(generator, name=\"\")\n",
    "```"
   ]
  },
  {
   "cell_type": "code",
   "execution_count": null,
   "id": "2a89c7de",
   "metadata": {
    "slideshow": {
     "slide_type": "fragment"
    }
   },
   "outputs": [],
   "source": [
    "import gurobipy as gp\n",
    "from gurobipy import GRB\n",
    "\n",
    "# Add constraints x_i + y_j <= 1 for all (i, j). Assume x_i and y_j are binary variables\n",
    "I = range(5)\n",
    "J = [\"a\", \"b\", \"c\"]\n",
    "with gp.Model(\"model\") as model:\n",
    "    x = model.addVars(I, vtype=GRB.BINARY, name=\"x\")\n",
    "    y = model.addVars(J, vtype=GRB.BINARY, name=\"y\")\n",
    "\n",
    "    generator = (x[i] + y[j] <= 1 for i in I for j in J)\n",
    "    model.addConstrs(generator, name=\"c\")\n",
    "    model.update() \n",
    "\n",
    "    # Print constraint names\n",
    "    print(model.getAttr(\"ConstrName\", model.getConstrs())) "
   ]
  },
  {
   "cell_type": "markdown",
   "id": "94fc3d89",
   "metadata": {
    "slideshow": {
     "slide_type": "slide"
    }
   },
   "source": [
    "## Objective Function\n",
    "\n",
    "To set the model objective equal to a linear or a quadratic expression, use the [Model.setObjective()](https://www.gurobi.com/documentation/10.0/refman/py_model_setobjective.html) method:\n",
    "```\n",
    "Model.setObjective(expr, sense=GRB.MINIMIZE)\n",
    "```\n",
    "- expr: \n",
    "    - [LinExpr()](https://www.gurobi.com/documentation/10.0/refman/py_lex.html): constant + coefficient-variable pairs capturing linear terms\n",
    "    - [QuadExpr()](https://www.gurobi.com/documentation/10.0/refman/py_qex.html): linear expression + list of coefficient-variable-variable triples\n",
    "- sense:\n",
    "    - GRB.MINIMIZE (default) or GRB.MAXIMIZE"
   ]
  },
  {
   "cell_type": "code",
   "execution_count": null,
   "id": "29dbc512",
   "metadata": {
    "slideshow": {
     "slide_type": "fragment"
    }
   },
   "outputs": [],
   "source": [
    "import gurobipy as gp\n",
    "from gurobipy import GRB\n",
    "\n",
    "import numpy as np\n",
    "\n",
    "# Add linear objectives in the form c^Tx and quadratic objective in the form x^T Q x\n",
    "n = 10\n",
    "c = np.random.rand(n)\n",
    "Q = np.random.rand(n, n)\n",
    "\n",
    "with gp.Model(\"model\") as model:\n",
    "    x = model.addVars(n, name=\"x\")\n",
    "    linexpr = gp.quicksum(c_i * x_i for c_i, x_i in zip(c, x.values()))\n",
    "    model.setObjective(linexpr)\n",
    "    model.update()\n",
    "\n",
    "    # Print objective expression\n",
    "    obj = model.getObjective()\n",
    "    print(f\"obj: {obj}\")\n",
    "\n",
    "with gp.Model(\"model\") as model:\n",
    "    x = model.addVars(n, name=\"x\")\n",
    "    quadexpr = 0\n",
    "    for i in range(n):\n",
    "        for j in range(n):\n",
    "            quadexpr += x[i] * Q[i, j] * x[j]\n",
    "    model.setObjective(quadexpr)\n",
    "    model.update()\n",
    "\n",
    "    # Print objective expression\n",
    "    obj = model.getObjective()\n",
    "    print(f\"\\nobj: {obj}\")"
   ]
  },
  {
   "cell_type": "markdown",
   "id": "710b16b1",
   "metadata": {
    "slideshow": {
     "slide_type": "slide"
    }
   },
   "source": [
    "## [Attributes](https://www.gurobi.com/documentation/10.0/refman/attributes.html)\n",
    "\n",
    "The primary mechanism for querying and modifying properties of a Gurobi object is through the attribute interface. You can see the complete set of Gurobi attributes in the reference linked above.\n",
    "\n",
    "Let us see an example of how to query useful attributes on the model object after the optimization is complete."
   ]
  },
  {
   "cell_type": "code",
   "execution_count": null,
   "id": "c4b6b335",
   "metadata": {
    "slideshow": {
     "slide_type": "fragment"
    }
   },
   "outputs": [],
   "source": [
    "import gurobipy as gp\n",
    "from gurobipy import GRB\n",
    "\n",
    "with gp.read(\"data/glass4.mps.bz2\") as model:\n",
    "    model.optimize()\n",
    "\n",
    "    print(\"****************** SOLUTION ******************\")\n",
    "    print(f\"\\tStatus       : {model.Status}\")\n",
    "    print(f\"\\tObj          : {model.ObjVal}\")\n",
    "    print(f\"\\tSolutionCount: {model.SolCount}\")\n",
    "    print(f\"\\tRuntime      : {model.Runtime}\")\n",
    "    print(f\"\\tMIPGap       : {model.MIPGap}\")\n",
    "\n",
    "    print(\"\\n\")\n",
    "    for var in model.getVars()[:20]:\n",
    "        print(f\"\\t{var.VarName} = {var.X}\")"
   ]
  },
  {
   "cell_type": "markdown",
   "id": "ce180f81",
   "metadata": {
    "slideshow": {
     "slide_type": "slide"
    }
   },
   "source": [
    "## [Parameters](https://www.gurobi.com/documentation/10.0/refman/parameter_descriptions.html)\n",
    "Parameters control the mechanics of the Gurobi Optimizer."
   ]
  },
  {
   "cell_type": "code",
   "execution_count": null,
   "id": "0f3f0755",
   "metadata": {
    "slideshow": {
     "slide_type": "fragment"
    }
   },
   "outputs": [],
   "source": [
    "import gurobipy as gp\n",
    "from gurobipy import GRB\n",
    "\n",
    "with gp.read(\"data/glass4.mps.bz2\") as model:\n",
    "    model.params.Threads = 1\n",
    "    model.params.TimeLimit = 10\n",
    "    model.optimize()"
   ]
  },
  {
   "cell_type": "markdown",
   "id": "19ac18a2",
   "metadata": {
    "slideshow": {
     "slide_type": "slide"
    }
   },
   "source": [
    "## Python Is Slow!\n",
    "\n",
    "Term-based modeling where the variables and constraints are constructed one at a time can be time-consuming in Python. \n",
    "\n",
    "Gurobi's matrix-friendly API, introduced in version 9.0.0 and significantly improved in version 10.0.0, enables matrix based operations which can be significantly faster than the term-based modeling. The Matrix API complements the capabilities of term-based modeling leaning on Numpy concepts and semantics such as vectorization and broadcasting. \n",
    "\n",
    "The relevant objects/methods are:\n",
    "- [Model.addMVar()](https://www.gurobi.com/documentation/10.0/refman/py_model_addmvar.html): Add an [MVar](https://www.gurobi.com/documentation/10.0/refman/py_mvar.html#pythonclass:MVar) object to a model. An MVar acts like a NumPy ndarray of Gurobi decision variables. An MVar can have an arbitrary number of dimensions, defined by the shape argument.\n",
    "```\n",
    "addMVar(shape, lb=0.0, ub=float(\"inf\"), obj=0.0, vtype=GRB.CONTINUOUS, name=\"\")\n",
    "```\n",
    "- [Model.addConstr()](https://www.gurobi.com/documentation/10.0/refman/py_model_addconstr.html): Add a TempConstr to the model.\n",
    "```\n",
    "addConstr(constr, name=\"\")\n",
    "```\n",
    "Check out the [Matrix-friendly Modeling with gurobipy](https://www.gurobi.com/events/webinar-matrix-friendly-modeling-with-gurobipy/) webinar for an in-depth overview of the Matrix API."
   ]
  },
  {
   "cell_type": "code",
   "execution_count": null,
   "id": "224f6fcd",
   "metadata": {
    "slideshow": {
     "slide_type": "fragment"
    }
   },
   "outputs": [],
   "source": [
    "import gurobipy as gp\n",
    "from gurobipy import GRB\n",
    "\n",
    "import timeit\n",
    "import numpy as np\n",
    "\n",
    "# Build x^T Q x <= 10\n",
    "\n",
    "n = 1000\n",
    "Q = np.random.rand(n, n)\n",
    "\n",
    "\n",
    "def term_based():\n",
    "    with gp.Model(\"term-based\") as model:\n",
    "        x = model.addVars(n, name=\"x\")\n",
    "        model.addConstr(\n",
    "            gp.quicksum(x[i] * Q[i, j] * x[j] for j in range(n) for i in range(n)) <= 10\n",
    "        )\n",
    "\n",
    "\n",
    "def matrix_api():\n",
    "    with gp.Model(\"matrix-based\") as model:\n",
    "        x = model.addMVar(n, name=\"x\")\n",
    "        model.addConstr(x.T @ Q @ x <= 10)\n",
    "\n",
    "\n",
    "%timeit -r 2 term_based()\n",
    "%timeit -r 2 matrix_api()"
   ]
  },
  {
   "cell_type": "markdown",
   "id": "516f5c91",
   "metadata": {
    "slideshow": {
     "slide_type": "slide"
    }
   },
   "source": [
    "## [General Constraints](https://www.gurobi.com/documentation/10.0/refman/constraints.html#subsubsection:GeneralConstraints)\n",
    "\n",
    "General constraints allow defining certain variable relationships easily without going to the hardship of modeling these relationships in terms of the more fundamental constraints of MIP. Capturing a single one of these general constraints can often require a large set of constraints and a number of auxiliary decision variables.\n",
    "\n",
    "- __Simple General Constraints__: \n",
    "    - $z = \\mbox{max(x, y, 3)}$: `model.addConstr(z == max_(x, y, constant=3))`\n",
    "    - $z = \\mbox{min(x, y, 3)}$: `model.addConstr(z == min_(x, y, constant=3))`\n",
    "    - $y = \\mbox{abs(x)}$: `model.addConstr(y == abs_(x))`\n",
    "    - $z = x \\land y$: `model.addConstr(z == and_(x, y))`\n",
    "    - $z = x \\lor y$: `model.addConstr(z == or_(x, y))`\n",
    "    - $z = ||x||_p, ~~ p = 0, 1, 2, \\infty$: `model.addConstr(nx == norm(x, 1.0))`\n",
    "    - indicator: \n",
    "        -  $x_0 = 1 -> x_1 + 2 x_2 + x_3 \\leq 1$\n",
    "            - `model.addGenConstrIndicator(x0, 1, x1 + 2*x2 + x3 <= 1)`\n",
    "            - `model.addConstr((x0 == 1) >> (x1 + 2*x2 + x3 <= 1))`\n",
    "    - piece-wise linear:\n",
    "        - `model.addGenConstrPWL(x, y, [0, 1, 2], [1.5, 0, 3], \"\")`\n",
    "- __Function Constraints__: \n",
    "    - $y = p_0x^n + p_1x^{n-1} + \\ldots + p_nx+ p_{n+1}$:\n",
    "        - $y = 2 x^3 + 1.5 x^2 + 1$\n",
    "          - `model.addGenConstrPoly(x, y, [2, 1.5, 0, 1])`\n",
    "    - $y = e^x$: `model.addGenConstrExp(x, y)`\n",
    "    - $y = a^x$: `model.addGenConstrExpA(x, y, a)`\n",
    "    - $y = \\ln(x)$: `model.addGenConstrLog(x, y)`\n",
    "    - $y = \\log_a(x)$: `model.addGenConstrLogA(x, y, a)`\n",
    "    - $y = \\frac{1}{1+e^{-x}}$: `model.addGenConstrLogistic(x, y)`\n",
    "    - $y = x^a$: `model.addGenConstrPow(x, y, a)`\n",
    "    - $y = \\sin(x)$: `model.addGenConstrSin(x, y)`\n",
    "    - $y = \\cos(x)$: `model.addGenConstrCos(x, y)`\n",
    "    - $y = \\tan(x)$: `model.addGenConstrTan(x, y)`\n",
    "   \n",
    "\n",
    "Gurobi will automatically add a piecewise-linear approximation of the function to the model. "
   ]
  },
  {
   "cell_type": "code",
   "execution_count": null,
   "id": "d8e9e499",
   "metadata": {
    "slideshow": {
     "slide_type": "fragment"
    }
   },
   "outputs": [],
   "source": [
    "# Consider the following nonconvex nonlinear problem\n",
    "#\n",
    "#  maximize    2 x    + y\n",
    "#  subject to  exp(x) + 4 sqrt(y) <= 9\n",
    "#              x, y >= 0\n",
    "\n",
    "import gurobipy as gp\n",
    "from gurobipy import GRB\n",
    "import math\n",
    "\n",
    "with gp.Model(\"model\") as model:\n",
    "    x = model.addVar(name=\"x\")\n",
    "    y = model.addVar(name=\"y\")\n",
    "    u = model.addVar(name=\"u\")\n",
    "    v = model.addVar(name=\"v\")\n",
    "\n",
    "    # Set objective\n",
    "    model.setObjective(2 * x + y, GRB.MAXIMIZE)\n",
    "\n",
    "    # u = exp(x)\n",
    "    gcf1 = model.addGenConstrExp(x, u, name=\"gcf1\")\n",
    "    # v = y^(0.5)\n",
    "    gcf2 = model.addGenConstrPow(y, v, 0.5, name=\"gcf2\")\n",
    "    c = model.addConstr(u + 4 * v <= 9)\n",
    "\n",
    "    # Use the equal piece length approach with the length = 1e-3\n",
    "    model.Params.FuncPieces = 1\n",
    "    model.Params.FuncPieceLength = 1e-3\n",
    "\n",
    "    # Optimize the model\n",
    "    model.optimize()\n",
    "\n",
    "    print(\"****************** SOLUTION ******************\")\n",
    "    print(f\"x = {x.X}, u = {u.X}\")\n",
    "    print(f\"y = {y.X}, v = {v.X}\")\n",
    "    print(f\"Obj = {model.ObjVal}\")\n",
    "\n",
    "    # Calculate violation of exp(x) + 4 sqrt(y) <= 9\n",
    "    vio = math.exp(x.X) + 4 * math.sqrt(y.X) - 9\n",
    "    if vio < 0:\n",
    "        vio = 0\n",
    "    print(f\"Vio = {vio}\")"
   ]
  },
  {
   "cell_type": "markdown",
   "id": "ceec00da",
   "metadata": {
    "slideshow": {
     "slide_type": "slide"
    }
   },
   "source": [
    "## [SOS Constraints](https://www.gurobi.com/documentation/10.0/refman/constraints.html#subsubsection:SOSConstraints)\n",
    "\n",
    "A Special-Ordered Set, or SOS constraint, is a highly specialized constraint that places restrictions on the values that variables in a given list can take. \n",
    "- SOS constraint of type 1 (SOS1): at most one variable is allowed to take a non-zero value.\n",
    "- SOS constraint of type 2 (SOS2): at most two variables are allowed to take non-zero values, and those non-zero variables must be contiguous.\n",
    "\n",
    "```\n",
    "  model.addSOS(type, vars, wts=None)\n",
    "  \n",
    "type: SOS type (GRB.SOS_TYPE1 or GRB.SOS_TYPE2).\n",
    "vars: List of variables that participate in the SOS constraint.\n",
    "weights (optional): Weights for the variables in the SOS constraint. Default weights are 1, 2, ...\n",
    "```\n",
    "\n",
    "__Example__: MIP formulation of `model.addConstr(z == max_(x, y, constant=3))`\n",
    "\\begin{align}\n",
    "z = x + s_1 & \\notag \\\\\n",
    "z = y + s_2 & \\notag \\\\\n",
    "z = 3 + s_3 & \\notag \\\\\n",
    "v_1 + v_ 2 + v_3 = 1 & \\notag \\\\\n",
    "\\mbox{SOS1}(s_1, v_1) & \\notag \\\\\n",
    "\\mbox{SOS1}(s_2, v_2) & \\notag \\\\\n",
    "\\mbox{SOS1}(s_3, v_3) & \\notag \\\\\n",
    "s_1, s_2, s_3 \\geq 0 & \\notag \\\\\n",
    "v_1, v_2, v_3 \\in \\{0, 1\\} & \\notag\n",
    "\\end{align}"
   ]
  },
  {
   "cell_type": "markdown",
   "id": "58919ed2",
   "metadata": {
    "slideshow": {
     "slide_type": "slide"
    }
   },
   "source": [
    "## [Callbacks](https://www.gurobi.com/documentation/10.0/refman/py_cb_s.html#pythonclass:Callback)\n",
    "\n",
    "A callback is a user function that enables more control over the optimization. It can be used to:\n",
    "1. monitor the progress of optimization \n",
    "2. modify the behaviour of the optimizer given the current status\n",
    "3. customize the optimization progress display\n",
    "4. customize the termination\n",
    "5. add user cuts/lazy constraints\n",
    "6. import custom feasible solutions\n",
    "\n",
    "The callback function makes use of two arguments:\n",
    "```\n",
    "- where: from where in the Gurobi Optimizer it is being called (presolve, simplex, barrier, MIP, MIPNODE, ...)\n",
    "- what: what information to retrieve\n",
    "```\n",
    "\n",
    "As an example, if `where = GRB.Callback.MIP`, possible `what` values that can be queried using the [Model.cbGet()](https://www.gurobi.com/documentation/10.0/refman/py_model_cbget.html#pythonmethod:Model.cbGet) method are:\n",
    "\n",
    "| what         |  where  |  Result type  |  Description                               |\n",
    "| :------------| :-------|:------------- |:-------------------------------------------|\n",
    "| MIP_OBJBST   | MIP\t | double\t     | Current best objective.                    |\n",
    "| MIP_OBJBND   | MIP\t | double\t     | Current best objective bound.              |\n",
    "| MIP_NODCNT   | MIP\t | double\t     | Current explored node count.               |\n",
    "| MIP_SOLCNT   | MIP\t | int\t         | Current count of feasible solutions found. |\n",
    "| MIP_CUTCNT   | MIP\t | int\t         | Current count of cutting planes applied.   |\n",
    "| MIP_NODLFT   | MIP\t | double\t     | Current unexplored node count.             |\n",
    "| MIP_ITRCNT   | MIP\t | double\t     | Current simplex iteration count.           |\n",
    "| ...          \n",
    "\n",
    "- [Model.cbGetNodeRel()](https://www.gurobi.com/documentation/10.0/refman/py_model_cbgetnoderel.html#pythonmethod:Model.cbGetNodeRel): retrieve values from the node relaxation solution at the current node\n",
    "- [Model.cbGetSolution()](https://www.gurobi.com/documentation/10.0/refman/py_model_cbgetsolution.html#pythonmethod:Model.cbGetSolution): retrieve values from the new MIP solution\n",
    "- [Model.cbCut()](https://www.gurobi.com/documentation/10.0/refman/py_model_cbcut.html#pythonmethod:Model.cbCut): add a new cutting plane to a MIP model \n",
    "- [Model.cbLazy()](https://www.gurobi.com/documentation/10.0/refman/py_model_cblazy.html#pythonmethod:Model.cbLazy): add a new lazy constraint to cut off a solution \n",
    "- [Model.cbSetSolution()](https://www.gurobi.com/documentation/10.0/refman/py_model_cbsetsolution.html#pythonmethod:Model.cbSetSolution): import solution values for a heuristic solution\n",
    "\n",
    "The complete list of possible values for the `where` and `what` arguments can be seen in [Callback Codes](https://www.gurobi.com/documentation/10.0/refman/cb_codes.html)."
   ]
  },
  {
   "cell_type": "markdown",
   "id": "9b4a3d7b",
   "metadata": {
    "slideshow": {
     "slide_type": "slide"
    }
   },
   "source": [
    "## Best Practices\n",
    "\n",
    "- Do ensure the separation between your model and data\n",
    "- Do use descriptive names where appropriate\n",
    "- Do consider using the Package [gurobipy stubs](https://support.gurobi.com/hc/en-us/articles/4415139954449-How-do-I-enable-type-hinting-in-the-Gurobi-Python-API-) for Type Hinting\n",
    "- Don’t create unneeded variables or constraints\n",
    "- Don’t forget to dispose of your model and environment\n",
    "- Always use documentation "
   ]
  },
  {
   "cell_type": "markdown",
   "id": "23b7b060",
   "metadata": {
    "slideshow": {
     "slide_type": "slide"
    }
   },
   "source": [
    "## [Card Game](https://www.gurobi.com/resources/optimization-gamification-introducing-the-gurobipy-card-game/)\n",
    "\n",
    "\n",
    "<img src=\"./images/card-game.png\" width=\"800\" height=\"600\" style=\"margin-left:auto; margin-right:auto\"/>\n"
   ]
  },
  {
   "cell_type": "markdown",
   "id": "60f61c5e",
   "metadata": {
    "slideshow": {
     "slide_type": "slide"
    }
   },
   "source": [
    "## Resources\n",
    "- [Gurobi Python Documentation](https://www.gurobi.com/documentation/10.0/refman/py_python_api_overview.html)\n",
    "- [Gurobi Python Examples](https://www.gurobi.com/documentation/10.0/examples/python_examples.html)\n",
    "- [Gurobi Jupyter Notebook Modeling Examples](https://www.gurobi.com/jupyter_models/)\n",
    "- [Gurobi Knowledge Base](https://support.gurobi.com/hc/en-us/categories/360000840331-Knowledge-Base)"
   ]
  }
 ],
 "metadata": {
  "celltoolbar": "Slideshow",
  "kernelspec": {
   "display_name": "Python 3 (ipykernel)",
   "language": "python",
   "name": "python3"
  },
  "language_info": {
   "codemirror_mode": {
    "name": "ipython",
    "version": 3
   },
   "file_extension": ".py",
   "mimetype": "text/x-python",
   "name": "python",
   "nbconvert_exporter": "python",
   "pygments_lexer": "ipython3",
   "version": "3.11.0"
  },
  "vscode": {
   "interpreter": {
    "hash": "aee8b7b246df8f9039afb4144a1f6fd8d2ca17a180786b69acc140d282b71a49"
   }
  }
 },
 "nbformat": 4,
 "nbformat_minor": 5
}
