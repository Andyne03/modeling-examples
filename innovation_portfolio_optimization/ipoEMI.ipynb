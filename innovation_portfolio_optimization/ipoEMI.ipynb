{
 "cells": [
  {
   "cell_type": "markdown",
   "metadata": {},
   "source": [
    "# Innovation Portfolio Optimization\n",
    "\n",
    "Innovation Portfolio Optimization is an extremely difficult problem to solve. There are an astronomical number of combinations to select and schedule projects optimally within the scarce and limited resources available. In addition, there are several conflicting business objectives to be considered when creating a portfolio, consequently there is a need to optimize the trade-offs between these conflicting objectives. Traditionally, “optimization” of a portfolio is a very manual and time-consuming process, with a lot of room for sub-optimal results leading to waste and delays in projects and processes.\n",
    "\n",
    "# Problem description\n",
    "Optimize the selection and scheduling of a portfolio of IT projects such that the trade-offs among various objectives are optimized, while satisfying resource constraints (e.g. labor availability and budgets) and other business constraints (e.g. direct selection of projects).\n",
    "\n",
    "$Sets$\n",
    "\n",
    "$p\\in P$: index and set of projects.\n",
    "\n",
    "$t \\in T$: periods and set of periods (planning horizon).\n",
    "\n",
    "$IN \\subseteq P$: set of projects forced to be selected.\n",
    "\n",
    "$OUT \\subseteq P$: set of projects forced to be not selected.\n",
    "\n",
    "$Parameters$\n",
    "\n",
    "$\\alpha$: a discount factor.\n",
    "\n",
    "$BigM$: Large penalty number for exceding one unit of budget\n",
    "\n",
    "$\\beta$: budget to fund the recommended projects.\n",
    "\n",
    "$\\lambda_p$: release date of project $p \\in P$\n",
    "\n",
    "$\\delta_p$: due date of project $p \\in P$\n",
    "\n",
    "$v_p$: value or benefit of project $p \\in P$\n",
    "\n",
    "$c_p$: cost of project $p \\in P$\n",
    "\n",
    "$d_p$: duration of project $p \\in P$\n",
    "\n",
    "${P_p}^{CS}$: customer satisfaction of project $p \\in P$\n",
    "\n",
    "\n",
    "$Computed parameters$\n",
    "\n",
    "$[ES_p, LS_p]$: defines the earlies start and latest start time window of project $p \\in P$. The release date $\\lambda_p$ and due date $\\delta_p$ will be used to obtain feasible time windows.\n",
    "\n",
    "$[EF_p, LF_p]$: defines the earlies start and latest start time window of project $p \\in P$. The release date $\\lambda_p$, project duration $d_p$ and due date $\\delta_p$ will be used to obtain feasible time windows.\n",
    "\n",
    "\n",
    "$Decision variables$\n",
    "\n",
    "$y_p = 1$ if project $p$ is selected in the portfolio; and 0 otherwise.\n",
    "\n",
    "$x_{p,t} = 1$ if project $p$ starts at time period $t$; and 0 otherwise.\n",
    "\n",
    "$z_{p,t} = 1$ if project $p$ is completed at time period $t$; and 0 otherwise\n",
    "\n",
    "$ArtBudget$: takes a positive value in case the recommended budget does not cover the cost of all the selected projects \n",
    "\n",
    "$$ MAX \\; Benefit = \\sum_{p \\in P} \\sum_{t = EF_p}^{LF_p}  \\; \\frac{v_p\\;z_{p,t}}{(1 + \\alpha)^t} - BigM \\; ArtBudget$$\n",
    "\n",
    "$Subject\\;to$:\n",
    "\n",
    "$$ y_p = 1 \\;\\;\\;\\; \\forall p \\in IN$$\n",
    "$$ y_p = 0 \\;\\;\\;\\; \\forall p \\in OUT$$\n",
    "$$ \\sum_{t = ES(p)}^{LS(p)} x_{p, t} = y_{p} \\;\\;\\;\\;\\forall p \\in P$$\n",
    "$$\\sum_{t = ES(p)}^{LS(p)} t \\; x_{p, t} \\geq \\lambda_{p} \\; y_{p} \\;\\;\\;\\; \\forall p \\in P$$\n",
    "$$\\sum_{t = ES(p)}^{LS(p)} (t + d_{p}) \\; x_{p, t} \\leq \\delta_{p} \\; y_{p} \\;\\;\\;\\; \\forall p \\in P$$\n",
    "$$\\sum_{t = EF(p)}^{LF(p)} t \\; z_{p, t} = \\sum_{t = ES(p)}^{LS(p)} (t + d_{p}) \\; x_{p, t} \\;\\;\\;\\; \\forall p \\in P$$\n",
    "$$\\sum_{t = EF(p)}^{LF(p)} z_{p, t} = y_{p} \\;\\;\\;\\; \\forall p \\in P$$\n",
    "$$\\sum_{p \\in P} c_{p} \\; y_{p} \\leq \\beta + ArtBudget $$\n",
    "$$y_p \\in \\{0,1\\} \\;\\;\\;\\; \\forall p \\in P$$\n",
    "$$x_{p,t},\\;z_{p,t} \\;\\;\\;\\; \\forall p \\in P \\;\\; \\forall t \\in T$$\n",
    "$$ ArtBudtet \\geq 0$$"
   ]
  },
  {
   "cell_type": "code",
   "execution_count": 1,
   "metadata": {},
   "outputs": [],
   "source": [
    "from gurobipy import *"
   ]
  },
  {
   "cell_type": "code",
   "execution_count": 2,
   "metadata": {},
   "outputs": [],
   "source": [
    " projects_information = {\n",
    "        1: [1, 13, 7, 173, 5, 100],\n",
    "        2: [1, 13, 7, 34, 1, 10],\n",
    "        3: [1, 13, 7, 34, 1, 10],\n",
    "        4: [1, 13, 7, 34, 1, 10],\n",
    "        5: [1, 13, 7, 34, 1, 10],\n",
    "        6: [1, 13, 7, 34, 1, 10]\n",
    "    }\n",
    "    \n",
    "project_direct_selected = set([])\n",
    "\n",
    "project_direct_exclusion = set([])\n",
    "\n",
    "investment_areas = {1, 2, 3}\n",
    "# dictionary of projects in investment area\n",
    "investment_area_projects = {\n",
    "    1: [1],\n",
    "    2: [2,3,4],\n",
    "    3: [5,6]\n",
    "}"
   ]
  },
  {
   "cell_type": "code",
   "execution_count": 3,
   "metadata": {},
   "outputs": [],
   "source": [
    "# Parameter definitions\n",
    "\n",
    "# discount factor over time\n",
    "discount_factor = 0.1         \n",
    "\n",
    "# Budget to fund recommended projects\n",
    "budget_recommended_projects = 5     \n",
    "\n",
    "# Penalty for exceding budget\n",
    "budget_bigM = -1000000"
   ]
  },
  {
   "cell_type": "code",
   "execution_count": 4,
   "metadata": {},
   "outputs": [],
   "source": [
    "projects, project_release_date, project_due_date, project_duration, project_benefit, project_cost, project_customer_satisfaction = gurobipy.multidict(projects_information)"
   ]
  },
  {
   "cell_type": "code",
   "execution_count": 5,
   "metadata": {},
   "outputs": [],
   "source": [
    "# Computer parameters\n",
    "\n",
    "# earliest period in which a project may start\n",
    "project_earliest_start = {}\n",
    "for project in projects:\n",
    "    project_earliest_start[project] = project_release_date[project]\n",
    "\n",
    "# latest period in which a project may start\n",
    "project_latest_start = {}\n",
    "for project in projects:\n",
    "    project_latest_start[project] = project_due_date[project] - project_duration[project]\n",
    "    \n",
    "# earliest period in which a project may be completed\n",
    "project_earliest_finish = {}\n",
    "for project in projects:\n",
    "    project_earliest_finish[project] = project_earliest_start[project] + project_duration[project]\n",
    "    \n",
    "# latest period in which a project may be completed\n",
    "project_latest_finish = {}\n",
    "for project in projects:\n",
    "    project_latest_finish[project] = project_due_date[project]"
   ]
  },
  {
   "cell_type": "code",
   "execution_count": 6,
   "metadata": {},
   "outputs": [],
   "source": [
    "# Decision variables\n",
    "\n",
    "# binary varaible to indicate if a project is selected\n",
    "selection_var = {}          \n",
    "# binary variable to indicate if a project starts at period t\n",
    "start_period_var = {}         \n",
    "# binary variable to indicate if a project is completed at period t\n",
    "completion_period_var = {}     \n",
    "# Artificial variable to correct budget constraing infeasibilities\n",
    "artificial_budget = None"
   ]
  },
  {
   "cell_type": "code",
   "execution_count": 7,
   "metadata": {},
   "outputs": [],
   "source": [
    "# GUROBI OBJECTS\n",
    "env = gurobipy.Env(empty=True)\n",
    "env.start()\n",
    "ipo_model = gurobipy.Model('IPO', env)"
   ]
  },
  {
   "cell_type": "code",
   "execution_count": 8,
   "metadata": {},
   "outputs": [],
   "source": [
    "# Adding variables\n",
    "artificial_budget = ipo_model.addVar(vtype=gurobipy.GRB.CONTINUOUS, name='extra_budget')\n",
    "\n",
    "for project in projects:\n",
    "    selection_var[project] = ipo_model.addVar(vtype=gurobipy.GRB.BINARY,\n",
    "                                              name='SelectionVar_' + str(project))\n",
    "\n",
    "    start_period_var[project] = {}\n",
    "    for t in range(project_earliest_start[project], project_latest_start[project]):\n",
    "        start_period_var[(project, t)] = ipo_model.addVar(vtype=gurobipy.GRB.BINARY,\n",
    "                                                          name='StartPeriodVar_' + str(\n",
    "                                                              project) + '_' + str(t))\n",
    "\n",
    "    completion_period_var[project] = {}\n",
    "    for t in range(project_earliest_finish[project], project_latest_finish[project]):\n",
    "        completion_period_var[(project, t)] = ipo_model.addVar(\n",
    "            vtype=gurobipy.GRB.BINARY,\n",
    "            # obj = ProjectBenefit[p] / math.pow((1 + DiscountFactor), t),\n",
    "            name='CompletionPeriodVar_' + str(project) + '_' + str(t))"
   ]
  },
  {
   "cell_type": "markdown",
   "metadata": {},
   "source": [
    "Constraint to force project to be selected \n",
    "\n",
    "$$ y_p = 1 \\;\\;\\;\\; \\forall p \\in IN$$"
   ]
  },
  {
   "cell_type": "code",
   "execution_count": 9,
   "metadata": {},
   "outputs": [],
   "source": [
    "# Adding Direct Selection Constraints\n",
    "for project in project_direct_selected:\n",
    "    ipo_model.addConstr(selection_var[project], gurobipy.GRB.EQUAL, 1,\n",
    "                        'DirectSelection_' + str(project))"
   ]
  },
  {
   "cell_type": "markdown",
   "metadata": {},
   "source": [
    "Constraint to force project to NOT be selected \n",
    "\n",
    "$$ y_p = 0 \\;\\;\\;\\; \\forall p \\in OUT$$"
   ]
  },
  {
   "cell_type": "code",
   "execution_count": 10,
   "metadata": {},
   "outputs": [],
   "source": [
    "# Adding Direct Exclusion Constraints\n",
    "for project in project_direct_exclusion:\n",
    "    ipo_model.addConstr(selection_var[project], gurobipy.GRB.EQUAL, 0,\n",
    "                        'DirectExclusion_' + str(project))"
   ]
  },
  {
   "cell_type": "markdown",
   "metadata": {},
   "source": [
    "Constraints to ensure that a project is selected if and only if the project starts\n",
    "\n",
    "$$ \\sum_{t = ES(p)}^{LS(p)} x_{p, t} = y_{p} \\;\\;\\;\\;\\forall p \\in P$$"
   ]
  },
  {
   "cell_type": "code",
   "execution_count": 11,
   "metadata": {},
   "outputs": [],
   "source": [
    "# Adding Constraint to ensure project start if selected\n",
    "for project in projects:\n",
    "    ipo_model.addConstr(\n",
    "        gurobipy.quicksum([start_period_var[(project, t)] for t in\n",
    "                           range(project_earliest_start[project],\n",
    "                                 project_latest_start[project])]),\n",
    "        gurobipy.GRB.EQUAL,\n",
    "        selection_var[project],\n",
    "        name='IFProject_' + str(project) + '_SelectedMustStart'\n",
    "    )"
   ]
  },
  {
   "cell_type": "markdown",
   "metadata": {},
   "source": [
    "Constraint to ensure that project $p$ starts afters its release date\n",
    "\n",
    "$$\\sum_{t = ES(p)}^{LS(p)} t \\; x_{p, t} \\geq \\lambda_{p} \\; y_{p} \\;\\;\\;\\; \\forall p \\in P$$"
   ]
  },
  {
   "cell_type": "code",
   "execution_count": 12,
   "metadata": {},
   "outputs": [],
   "source": [
    "# Adding Release period constraints\n",
    "for project in projects:\n",
    "    ipo_model.addConstr(\n",
    "        gurobipy.quicksum([start_period_var[(project, t)] * t for t in\n",
    "                           range(project_earliest_start[project],\n",
    "                                 project_latest_start[project])]),\n",
    "        gurobipy.GRB.GREATER_EQUAL,\n",
    "        project_release_date[project] * selection_var[project],\n",
    "        name='ReleasePeriodConstraint_' + str(project)\n",
    "    )"
   ]
  },
  {
   "cell_type": "markdown",
   "metadata": {},
   "source": [
    "Constraint to ensure that project $p$ completes before its due date\n",
    "\n",
    "$$\\sum_{t = ES(p)}^{LS(p)} (t + d_{p}) \\; x_{p, t} \\leq \\delta_{p} \\; y_{p} \\;\\;\\;\\; \\forall p \\in P$$"
   ]
  },
  {
   "cell_type": "code",
   "execution_count": 13,
   "metadata": {},
   "outputs": [],
   "source": [
    "# Adding Due period constraints\n",
    "for project in projects:\n",
    "    ipo_model.addConstr(\n",
    "        gurobipy.quicksum(\n",
    "            [start_period_var[(project, t)] * (t + project_duration[project]) for t in\n",
    "             range(project_earliest_start[project], project_latest_start[project])]),\n",
    "        gurobipy.GRB.LESS_EQUAL,\n",
    "        project_due_date[project] * selection_var[project],\n",
    "        name='DuePeriodConstraint_' + str(project)\n",
    "    )"
   ]
  },
  {
   "cell_type": "markdown",
   "metadata": {},
   "source": [
    "Constraint to ensure that if project $p$ starts at time period $t$, then this project is completed at time $t + d_{p}$ within the finishing time window\n",
    "\n",
    "$$\\sum_{t = EF(p)}^{LF(p)} t \\; z_{p, t} = \\sum_{t = ES(p)}^{LS(p)} (t + d_{p}) \\; x_{p, t} \\;\\;\\;\\; \\forall p \\in P$$"
   ]
  },
  {
   "cell_type": "code",
   "execution_count": 14,
   "metadata": {},
   "outputs": [],
   "source": [
    "# Adding Start and End link constraint\n",
    "for project in projects:\n",
    "    ipo_model.addConstr(\n",
    "        gurobipy.quicksum([completion_period_var[(project, t)] * t for t in\n",
    "                           range(project_earliest_finish[project],\n",
    "                                 project_latest_finish[project])]),\n",
    "        gurobipy.GRB.EQUAL,\n",
    "        gurobipy.quicksum(\n",
    "            [start_period_var[(project, t)] * (t + project_duration[project]) for t in\n",
    "             range(project_earliest_start[project], project_latest_start[project])]),\n",
    "        name='Start_End_Link_Constraint_' + str(project)\n",
    "    )"
   ]
  },
  {
   "cell_type": "markdown",
   "metadata": {},
   "source": [
    "Constraint to ensure that if project $p$ is selected then it must be completed at some time period withing the finishing time window\n",
    "\n",
    "$$\\sum_{t = EF(p)}^{LF(p)} z_{p, t} = y_{p} \\;\\;\\;\\; \\forall p \\in P$$"
   ]
  },
  {
   "cell_type": "code",
   "execution_count": 15,
   "metadata": {},
   "outputs": [],
   "source": [
    "# Adding Constraint to ensure project ends if selected\n",
    "for project in projects:\n",
    "    ipo_model.addConstr(\n",
    "        gurobipy.quicksum([completion_period_var[(project, t)] for t in\n",
    "                           range(project_earliest_finish[project],\n",
    "                                 project_latest_finish[project])]),\n",
    "        gurobipy.GRB.EQUAL,\n",
    "        selection_var[project],\n",
    "        name='IFProject_' + str(project) + '_SelectedMustEnd'\n",
    "    )"
   ]
  },
  {
   "cell_type": "markdown",
   "metadata": {},
   "source": [
    "Constraint to ensure that the total cost of the selected projecs is withing the budget. In case there is a need of extra budget then the $ArtBudget$ takes a positive value and its penalized in the objective function\n",
    "\n",
    "\n",
    "$$ \\sum_{p \\in P} c_{p} \\; y_{p} \\leq \\beta + ArtBudget $$\n"
   ]
  },
  {
   "cell_type": "code",
   "execution_count": 16,
   "metadata": {},
   "outputs": [
    {
     "data": {
      "text/plain": [
       "<gurobi.Constr *Awaiting Model Update*>"
      ]
     },
     "execution_count": 16,
     "metadata": {},
     "output_type": "execute_result"
    }
   ],
   "source": [
    "# Adding Budget Constraints\n",
    "ipo_model.addConstr(\n",
    "        gurobipy.quicksum([project_cost[p] * selection_var[p] for p in projects]),\n",
    "        gurobipy.GRB.LESS_EQUAL,\n",
    "        budget_recommended_projects + artificial_budget,\n",
    "        name='BudgetConstraint'\n",
    "    )"
   ]
  },
  {
   "cell_type": "markdown",
   "metadata": {},
   "source": [
    "We have a primary and seconday objective, both are to maximize\n",
    "\n",
    "The primary objective is to maximize the total benefit of the selected projects\n",
    "\n",
    "$$ MAX \\; Benefit = \\sum_{p \\in P} \\sum_{t = EF_p}^{LF_p}  \\; \\frac{v_p\\;z_{p,t}}{(1 + \\alpha)^t} - BigM \\; ArtBudget$$"
   ]
  },
  {
   "cell_type": "code",
   "execution_count": 17,
   "metadata": {},
   "outputs": [],
   "source": [
    "# Objective for maximizing benefit\n",
    "objective1 = gurobipy.quicksum(\n",
    "    [completion_period_var[(p, t)] * project_benefit[p] / gurobipy.math.pow(\n",
    "        (1 + discount_factor), t)\n",
    "     for p in projects for t in range(project_earliest_finish[p], project_latest_finish[p])\n",
    "     ]) + (budget_bigM * artificial_budget)\n",
    "\n"
   ]
  },
  {
   "cell_type": "markdown",
   "metadata": {},
   "source": [
    "The seconday objective is to maximize the customer satisfaction\n",
    "\n",
    "$$ MAX \\; Customer Satisfaction = \\sum_{p \\in P} \\sum_{t = EF_p}^{LF_p}  \\; \\frac{{P_p}^{CS}\\;z_{p,t}}{(1 + \\alpha)^t} - BigM \\; ArtBudget$$"
   ]
  },
  {
   "cell_type": "code",
   "execution_count": 18,
   "metadata": {},
   "outputs": [],
   "source": [
    "# Objective for maximizing customer satisfaction\n",
    "# Low customer satisfaction value is better so we need to\n",
    "# calculate (MAX_customer_satisfaction - Project_customer_satisfaction + 1)\n",
    "best_ranking = max(project_customer_satisfaction.values())\n",
    "objective2 = gurobipy.quicksum([completion_period_var[(p, t)] * (\n",
    "        (best_ranking - project_customer_satisfaction[p] + 1) / gurobipy.math.pow(\n",
    "    (1 + discount_factor),\n",
    "    t))\n",
    "                                for p in projects for t in\n",
    "                                range(project_earliest_finish[p], project_latest_finish[p])\n",
    "                                ]) + (budget_bigM * artificial_budget)"
   ]
  },
  {
   "cell_type": "code",
   "execution_count": 19,
   "metadata": {},
   "outputs": [],
   "source": [
    "# Setting first objective with an absolute tolerace of 5% and relative tolerance of 0\n",
    "# noinspection PyArgumentList\n",
    "ipo_model.setObjectiveN(objective1, index = 0, priority = 2, abstol = 2.0,\n",
    "                        reltol = 0.0, name = \"Project_Benefit\")\n",
    "# noinspection PyArgumentList\n",
    "# Setting second objective with an absolute tolerace of 10% and relative tolerance of 0\n",
    "ipo_model.setObjectiveN(objective2, index = 1, priority = 1, name = \"customer_satisfaction\")\n",
    "\n",
    "ipo_model.ModelSense = gurobipy.GRB.MAXIMIZE"
   ]
  },
  {
   "cell_type": "code",
   "execution_count": 20,
   "metadata": {},
   "outputs": [
    {
     "name": "stdout",
     "output_type": "stream",
     "text": [
      "Optimize a model with 31 rows, 67 columns and 211 nonzeros\n",
      "Variable types: 1 continuous, 66 integer (66 binary)\n",
      "Coefficient statistics:\n",
      "  Matrix range     [1e+00, 1e+01]\n",
      "  Objective range  [3e-01, 1e+06]\n",
      "  Bounds range     [1e+00, 1e+00]\n",
      "  RHS range        [5e+00, 5e+00]\n",
      "\n",
      "---------------------------------------------------------------------------\n",
      "Multi-objectives: starting optimization with 2 objectives ... \n",
      "---------------------------------------------------------------------------\n",
      "\n",
      "Multi-objectives: applying initial presolve ...\n",
      "---------------------------------------------------------------------------\n",
      "\n",
      "Presolve removed 24 rows and 30 columns\n",
      "Presolve time: 0.01s\n",
      "Presolved: 7 rows and 37 columns\n",
      "---------------------------------------------------------------------------\n",
      "\n",
      "Multi-objectives: optimize objective 1 (Project_Benefit) ...\n",
      "---------------------------------------------------------------------------\n",
      "\n",
      "Found heuristic solution: objective -0.0000000\n",
      "Presolve removed 6 rows and 34 columns\n",
      "Presolve time: 0.00s\n",
      "Presolved: 1 rows, 3 columns, 3 nonzeros\n",
      "Variable types: 0 continuous, 3 integer (1 binary)\n",
      "\n",
      "Root relaxation: objective 8.070578e+01, 0 iterations, 0.01 seconds\n",
      "\n",
      "    Nodes    |    Current Node    |     Objective Bounds      |     Work\n",
      " Expl Unexpl |  Obj  Depth IntInf | Incumbent    BestBd   Gap | It/Node Time\n",
      "\n",
      "*    0     0               0      80.7057768   80.70578  0.00%     -    0s\n",
      "\n",
      "Explored 0 nodes (0 simplex iterations) in 0.06 seconds\n",
      "Thread count was 12 (of 12 available processors)\n",
      "\n",
      "Solution count 2: 80.7058 -0 \n",
      "\n",
      "Optimal solution found (tolerance 1.00e-04)\n",
      "Best objective 8.070577677628e+01, best bound 8.070577677628e+01, gap 0.0000%\n",
      "---------------------------------------------------------------------------\n",
      "\n",
      "Multi-objectives: optimize objective 2 (customer_satisfact) ...\n",
      "---------------------------------------------------------------------------\n",
      "\n",
      "\n",
      "Loaded MIP start with objective 0.466507\n",
      "\n",
      "Presolve removed 8 rows and 37 columns\n",
      "Presolve time: 0.00s\n",
      "Presolve: All rows and columns removed\n",
      "\n",
      "Explored 0 nodes (0 simplex iterations) in 0.07 seconds\n",
      "Thread count was 1 (of 12 available processors)\n",
      "\n",
      "Solution count 2: 212.261 0.466507 \n",
      "\n",
      "Optimal solution found (tolerance 1.00e-04)\n",
      "Best objective 2.122608579954e+02, best bound 2.122608579954e+02, gap 0.0000%\n",
      "\n",
      "---------------------------------------------------------------------------\n",
      "Multi-objectives: solved in 0.07 seconds, solution count 3\n",
      "\n"
     ]
    }
   ],
   "source": [
    "ipo_model.update()\n",
    "ipo_model.optimize()"
   ]
  },
  {
   "cell_type": "code",
   "execution_count": 21,
   "metadata": {},
   "outputs": [
    {
     "name": "stdout",
     "output_type": "stream",
     "text": [
      "Project id Start period\n",
      "2 1\n",
      "3 1\n",
      "4 1\n",
      "5 1\n",
      "6 1\n",
      "Total Projects selected 5\n",
      "Project selection performance 0.8333333333333334\n",
      "Total cost 5.0\n",
      "Total benefit 170.0\n",
      "Benefit performance 0.4956268221574344\n",
      "Budget utilization 1.0\n",
      "Cost performance 0.5\n",
      "ROI 34.0\n",
      "Available budget 5\n",
      "Extra budget required 0.0\n",
      "Cost by period\n",
      "1 0.7142857142857142\n",
      "2 0.7142857142857142\n",
      "3 0.7142857142857142\n",
      "4 0.7142857142857142\n",
      "5 0.7142857142857142\n",
      "6 0.7142857142857142\n",
      "7 0.7142857142857142\n",
      "8 0.0\n",
      "9 0.0\n",
      "10 0.0\n",
      "11 0.0\n",
      "12 0.0\n",
      "Benefit by period\n",
      "1 0.0\n",
      "2 0.0\n",
      "3 0.0\n",
      "4 0.0\n",
      "5 0.0\n",
      "6 0.0\n",
      "7 0.0\n",
      "8 170.0\n",
      "9 0.0\n",
      "10 0.0\n",
      "11 0.0\n",
      "12 0.0\n"
     ]
    }
   ],
   "source": [
    "total_cost = 0.0\n",
    "total_benefit = 0.0\n",
    "projects_selected = 0\n",
    "cost_by_period = {}\n",
    "benefit_by_period = {}\n",
    "selected_projects = []\n",
    "\n",
    "for t in range(1, max(project_due_date.values())):\n",
    "    cost_by_period[t] = 0.0\n",
    "    benefit_by_period[t] = 0.0\n",
    "\n",
    "print('Project id', 'Start period')\n",
    "for project in projects:\n",
    "    if selection_var[project].x > 0.5:\n",
    "        for t in range(project_earliest_start[project], project_latest_start[project]):\n",
    "            if start_period_var[(project, t)].x > 0.5:\n",
    "                print(project, t)\n",
    "                selected_projects.append(project)\n",
    "                for tt in range(t, t + project_duration[project]):\n",
    "                    cost_by_period[tt] = cost_by_period[tt] + \\\n",
    "                                         float(project_cost[project]) / float(project_duration[project])\n",
    "\n",
    "                benefit_by_period[t + project_duration[project]] = \\\n",
    "                    benefit_by_period[t + project_duration[project]] + project_benefit[project]\n",
    "                break\n",
    "        total_cost = total_cost + project_cost[project]\n",
    "        total_benefit = total_benefit + project_benefit[project]\n",
    "        projects_selected = projects_selected + 1\n",
    "\n",
    "print('Total Projects selected', projects_selected)\n",
    "print('Project selection performance', float(projects_selected)/float(len(projects)))\n",
    "print('Total cost', total_cost)\n",
    "print('Total benefit', total_benefit)\n",
    "print('Benefit performance', total_benefit / float(sum([project_benefit[p] for p in projects])))\n",
    "print('Budget utilization', total_cost / float(budget_recommended_projects))\n",
    "print('Cost performance', total_cost / float(sum([project_cost[p] for p in projects])))\n",
    "print('ROI', total_benefit / total_cost)\n",
    "print('Available budget', budget_recommended_projects)\n",
    "print('Extra budget required', artificial_budget.x)\n",
    "\n",
    "print('Cost by period')\n",
    "for t in cost_by_period.keys():\n",
    "    print(t, cost_by_period[t])\n",
    "\n",
    "print('Benefit by period')\n",
    "for t in benefit_by_period.keys():\n",
    "    print(t, benefit_by_period[t])"
   ]
  },
  {
   "cell_type": "code",
   "execution_count": null,
   "metadata": {},
   "outputs": [],
   "source": []
  },
  {
   "cell_type": "code",
   "execution_count": null,
   "metadata": {},
   "outputs": [],
   "source": []
  }
 ],
 "metadata": {
  "kernelspec": {
   "display_name": "Python 3",
   "language": "python",
   "name": "python3"
  },
  "language_info": {
   "codemirror_mode": {
    "name": "ipython",
    "version": 3
   },
   "file_extension": ".py",
   "mimetype": "text/x-python",
   "name": "python",
   "nbconvert_exporter": "python",
   "pygments_lexer": "ipython3",
   "version": "3.6.5"
  }
 },
 "nbformat": 4,
 "nbformat_minor": 2
}
