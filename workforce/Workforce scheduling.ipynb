{
 "cells": [
  {
   "cell_type": "markdown",
   "metadata": {},
   "source": [
    "# Workforce scheduling problem\n",
    "\n",
    "## Motivation\n",
    "People are the most important asset in the services industry and the largest cost.\n",
    "\n",
    "Workforce allocation and personnel scheduling deal with the arrangement of work schedules  and the assignment of personnel shifts in order to cover the demand for resources that vary over time.\n",
    "\n",
    "These problems are very important in services industries such as:\n",
    "* Telephone operators\n",
    "* Hospital nurses\n",
    "* Policemen\n",
    "* Transportation personnel (plane crews, bus drivers)\n",
    "* Hospitality industry\n",
    "* Restaurant industry\n",
    "* etc.\n",
    "\n",
    "## Problem description\n",
    "\n",
    "Consider a service business, like a restaurant, that develops its workforce plans for the next two weeks -considering a (7-day) week. The service requires only one set of skills. There are a number of employed workers with the same set of skills and with identical productivity that are available to work on some of the days during the two-weeks planning horizon. There is only one shift per workday. Each shift may have different resource (workers) requirements on each workday. The service business may hire extra (temp) workers from an agency to satisfy shift requirements. The service business wants to minimize the number of extra workers that needs to hire, and as a secondary objective (fairness) it wants to balance the workload of employed workers.\n",
    "\n",
    "## Model formulation\n",
    "Mathematical programming is a declarative approach where the modeler formulates a mathematical optimization problem that captures the key features of a complex decision problem. The Gurobi optimizer solves the mathematical optimization problem using state of the art mathematics and computer science.\n",
    "\n",
    "A mathematical optimization model has five components.\n",
    "* Sets\n",
    "* Parameters\n",
    "* Decision variables\n",
    "* Constraints\n",
    "* Objective function(s)\n",
    "\n",
    "### Sets and indices\n",
    "For the workforce problem, we have two sets: the set of $workers$ which corresponds to the employed workers in the service business, and the set of $shifts$ which corresponds to each of the work days in the planning horizon. For example, the set of $workers = \\{1:Amy, \\; 2:Bob  \\}$ maps the index 1 with the employed worker Amy, and the index 2 with the employed worker Bob. The set of $shifts = \\{1:Mon1, \\; 2:Tue2  \\}$ maps the index 1 with the work day Mon1, and the index 2 with the work day Tue2.\n",
    "\n",
    "In general, for the workforce problem, we have:\n",
    "\n",
    "Let $s \\in shifts$ be the index and set of shifts.\n",
    "\n",
    "Let $w \\in workers$ be the index and set of workers.\n",
    "\n",
    "### Parameters\n",
    "In general, the parameters maps the inidces of the sets to particular values that represent the input data of the mathematical optimization problem. For example, the shift requirement on the Mon1 work day is 3 workers. This can be represented by an array called shiftRequirements, where $shiftRequirements(Mon1) = 3$.\n",
    "\n",
    "The input data of the workforce problem is defined by the following paramters.\n",
    "\n",
    "Let the parameter $shiftRequirements(s)$ be the number of workers required at shift $s$, for all $s \\in shifts$.\n",
    "\n",
    "Let the parameter $pay(w)$ be the salary per day of a worker $w$, for all $w \\in workers$. \n",
    "\n",
    "The parameter $availability(w,s)$ establishes that the employed worker  $w$ is available to work on shift $s$.\n",
    "\n",
    "Let $relTol$ be the relative tolerance paramater that allows to deviate from the optimal objective function value of the primary objective, when solving the model for the secondary objective. (See optimization process).\n",
    "\n",
    "### Computed parameters\n",
    "These parameters are derived from the input parameters and/or from the optimization process.\n",
    "\n",
    "Let $Opt(totSlack)$ be the minimum value of extra workers required to fill demand. \n",
    "\n",
    "### Decision variables\n",
    "The decision variables represents the solution of the mathematical optimization model. That is, the optimal values of the decision variables are recommendations about the courses of action that optimize the business objective(s). The decision variables maps the inidces of the sets to particular values that represent the best course of action. For example, if the  mathematical optimization model recommends that Amy works on Mon1 shift, this can be represented by a two dimensional array x, where the first dimension is the set of workers and the second dimension is the set of shifts. Hence, x(Amy, Mon1) = 1 means that Amy has been assigned to work the Mon1 shift.\n",
    "\n",
    "The best courses of action of the workforce problem is defined by the following decision variables.\n",
    "\n",
    "Let $x(w,s) = 1$ if worker $w$ is assigned to shift $s$ and 0 otherwise. \n",
    "\n",
    "Let $Slack(s)$ be the number of extra workers required to satisfy the requirements of shift $s$.\n",
    "\n",
    "### Auxiliary variables\n",
    "Auxiliary variables are derived from the values of the decision variables.\n",
    "\n",
    "The variable $totSlack$ counts the total number of extra workers required to satisfy shift workers demand.\n",
    "\n",
    "The variable $totShifts(w)$ counts the total number of shifts worked by each worker.\n",
    "\n",
    "The variable $minShift$ determines the minimum numbers of shifts allocated to workers. \n",
    "\n",
    "The variable $maxShift$ determines the maximum numbers of shifts allocated to workers.\n",
    "\n",
    "### Optimization process\n",
    "\n",
    "In this modeling example, we tackle a multi-objective model where the primary objective is to minimize the number of extra workers required to satisfy shift requirements, and the secondary objective is to minimize the maximum difference in the number of shifts worked between any pair of workers. This secondary objective balance the workload allocated to workers.\n",
    " \n",
    "The hierarchical multi-objective optimization approach will first solve the following model where we minimize the number of extra workers allocated.\n",
    "\n",
    " \n",
    "\\begin{equation}\n",
    "Min \\; totSlack\n",
    "\\end{equation}\n",
    "\n",
    "Subject to:\n",
    "\n",
    "All shifts requirements most be satisfied:\n",
    "\\begin{equation}\n",
    "\\sum_{w \\: \\in \\: workers} x(w,s) \\; + \\; Slack(s) \\; = \\; shiftRequirements(s) \\; \\; \\; \\forall \\; s \\in shifts\n",
    "\\end{equation}\n",
    "\n",
    "Set $totSlack$ equal to the total number of extra workers required:\n",
    "\\begin{equation}\n",
    "\\sum_{s \\: \\in \\: shifts} Slack(s) \\; = \\; totSlack \n",
    "\\end{equation}\n",
    "\n",
    "Compute the total number of shifts for each worker:\n",
    "\\begin{equation}\n",
    "\\sum_{s \\: \\in \\: shifts} x(w,s) \\; = \\; totShifts(w) \\; \\; \\; \\forall \\; w \\in workers\n",
    "\\end{equation}\n",
    "\n",
    "Binary and non-negativity constraints:\n",
    "\\begin{equation}\n",
    "x(w,s) \\in \\{0, 1 \\}  \\; \\; \\; \\forall \\; w \\in workers \\; and \\;  s \\in shifts\n",
    "\\end{equation}\n",
    "\\begin{equation}\n",
    "Slack(s) \\geq 0 \\; \\; \\; \\forall \\; s \\in shifts  \\; \\; \\;totShifts(w) \\geq 0 \\; \\; \\; \\forall \\; w \\in workers\n",
    "\\end{equation}\n",
    "\\begin{equation}\n",
    "totSlack  \\geq 0\n",
    "\\end{equation}\n",
    "\n",
    "The parameter $Opt(totSlack)$ is set to be equal to the minimum number of extra workers required to satisfy demand. That is, $Opt(totSlack) \\;=\\; totSlack^{*} $, where $totSlack^{*} $ is the optimal value of the variable $totSlack$.\n",
    "\n",
    "For a given relative tolerance of primary objective $relTol$, we now solve the following model where we minimize the difference between the maximum number of shifts allocated to a worker, and the minimum number of shifts allocated to a worker.\n",
    "\n",
    "\n",
    "\\begin{equation}\n",
    "Min \\; maxShift \\; - \\; minShift\n",
    "\\end{equation}\n",
    "\n",
    "Subject to:\n",
    "\n",
    "All shifts requirements most be satisfied:\n",
    "\\begin{equation}\n",
    "\\sum_{w \\: \\in \\: workers} x(w,s) \\; + \\; Slack(s) \\; = \\; shiftRequirements(s) \\; \\; \\; \\forall \\; s \\in shifts\n",
    "\\end{equation}\n",
    "\n",
    "\n",
    "Ensure totSlack primary objective value is satisfied up to tolerance percentage\n",
    "\\begin{equation}\n",
    "\\sum_{s \\: \\in \\: shifts} Slack(s) \\; \\leq \\; (1+relTol)*Opt(totSlack)\n",
    "\\end{equation}\n",
    "\n",
    "\n",
    "Compute the total  number of shifts for each worker: \n",
    "\\begin{equation}\n",
    "\\sum_{s \\: \\in \\: shifts} x(w,s) \\; = \\; totShifts(w) \\; \\; \\; \\forall \\; w \\in shifts \n",
    "\\end{equation}\n",
    "\n",
    "Compute the minimum number of shifts allocated to an employed worker:\n",
    "\\begin{equation}\n",
    "minShift = Min \\{totShifts(w): \\ w \\; in \\; workers \\}  \n",
    "\\end{equation}\n",
    "\n",
    "\n",
    "Compute the maximum number of shifts allocated to an employed worker:\n",
    "\\begin{equation}\n",
    "maxShift = Max \\{totShifts(w): \\ w \\; in \\; workers \\}\n",
    "\\end{equation}\n",
    "\n",
    "Binary and non-negativity constraints:\n",
    "\\begin{equation}\n",
    "x(w,s) \\in \\{0, 1 \\}  \\; \\; \\; \\forall \\; w \\in workers \\; and \\;  s \\in shifts\n",
    "\\end{equation}\n",
    "\\begin{equation}\n",
    "Slack(s) \\geq 0 \\; \\; \\; \\forall \\; s \\in shifts \\; \\; \\;totShifts(w) \\geq 0 \\; \\; \\; \\forall \\; w \\in workers \n",
    "\\end{equation}\n",
    "\\begin{equation}\n",
    "minShift, maxShift    \\geq 0\n",
    "\\end{equation}\n",
    "\n",
    "\n",
    "## What you will learn\n",
    "* You will learn how to formulate the workforce scheduling problem as a mixed integer programming (MIP) problem using the Gurobi Python API\n",
    "* The workforce scheduling problem is formulated as a multi-objective MIP, conequently you will learn how to configure the model objective method \"Model.setObjectiveN() that allows to handle multiple objectives hierarchically."
   ]
  },
  {
   "cell_type": "code",
   "execution_count": 1,
   "metadata": {
    "collapsed": true
   },
   "outputs": [],
   "source": [
    "# This command imports the Gurobi functions and classes\n",
    "\n",
    "from gurobipy import *"
   ]
  },
  {
   "cell_type": "code",
   "execution_count": 2,
   "metadata": {
    "collapsed": true
   },
   "outputs": [],
   "source": [
    "# Number of workers required for each shift\n",
    "# The multidict function returns a list which maps each shift (key) to the number of workers required by the shift \n",
    "# duirng work day\n",
    "shifts, shiftRequirements = multidict({\n",
    "  \"Mon1\":  3,\n",
    "  \"Tue2\":  2,\n",
    "  \"Wed3\":  4,\n",
    "  \"Thu4\":  4,\n",
    "  \"Fri5\":  5,\n",
    "  \"Sat6\":  6,\n",
    "  \"Sun7\":  5,\n",
    "  \"Mon8\":  2,\n",
    "  \"Tue9\":  2,\n",
    "  \"Wed10\": 3,\n",
    "  \"Thu11\": 4,\n",
    "  \"Fri12\": 6,\n",
    "  \"Sat13\": 7,\n",
    "  \"Sun14\": 5 })"
   ]
  },
  {
   "cell_type": "code",
   "execution_count": 3,
   "metadata": {
    "collapsed": true
   },
   "outputs": [],
   "source": [
    "# Amount each worker is paid to work one shift\n",
    "workers, pay = multidict({\n",
    "  \"Amy\":   10,\n",
    "  \"Bob\":   12,\n",
    "  \"Cathy\": 10,\n",
    "  \"Dan\":   8,\n",
    "  \"Ed\":    8,\n",
    "  \"Fred\":  9,\n",
    "  \"Gu\":    11 })"
   ]
  },
  {
   "cell_type": "code",
   "execution_count": 4,
   "metadata": {
    "collapsed": true
   },
   "outputs": [],
   "source": [
    "# Worker availability: defines on which day each employed worker is available.\n",
    "# The Gurobi tuple list is a sub-class of the Python list class that is designed to efficiently\n",
    "# support a usage pattern that is quite common when building optimization models. In particular, if a\n",
    "# tuplelist is populated with a list of tuples, the select function on this class efficiently selects tuples\n",
    "# whose values match specified values in specified tuple fields. To give an example, the statement\n",
    "# l.select(1, ’*’, 5) would select all member tuples whose first field is equal to ’1’ and whose\n",
    "# third field is equal to ’5’. The ’*’ character is used as a wildcard to indicate that any value is\n",
    "# acceptable in that field\n",
    "availability = tuplelist([\n",
    "('Amy', 'Tue2'), ('Amy', 'Wed3'), ('Amy', 'Fri5'), ('Amy', 'Sun7'),\n",
    "('Amy', 'Tue9'), ('Amy', 'Wed10'), ('Amy', 'Thu11'), ('Amy', 'Fri12'),\n",
    "('Amy', 'Sat13'), ('Amy', 'Sun14'), ('Bob', 'Mon1'), ('Bob', 'Tue2'),\n",
    "('Bob', 'Fri5'), ('Bob', 'Sat6'), ('Bob', 'Mon8'), ('Bob', 'Thu11'),\n",
    "('Bob', 'Sat13'), ('Cathy', 'Wed3'), ('Cathy', 'Thu4'), ('Cathy', 'Fri5'),\n",
    "('Cathy', 'Sun7'), ('Cathy', 'Mon8'), ('Cathy', 'Tue9'), ('Cathy', 'Wed10'),\n",
    "('Cathy', 'Thu11'), ('Cathy', 'Fri12'), ('Cathy', 'Sat13'),\n",
    "('Cathy', 'Sun14'), ('Dan', 'Tue2'), ('Dan', 'Wed3'), ('Dan', 'Fri5'),\n",
    "('Dan', 'Sat6'), ('Dan', 'Mon8'), ('Dan', 'Tue9'), ('Dan', 'Wed10'),\n",
    "('Dan', 'Thu11'), ('Dan', 'Fri12'), ('Dan', 'Sat13'), ('Dan', 'Sun14'),\n",
    "('Ed', 'Mon1'), ('Ed', 'Tue2'), ('Ed', 'Wed3'), ('Ed', 'Thu4'),\n",
    "('Ed', 'Fri5'), ('Ed', 'Sun7'), ('Ed', 'Mon8'), ('Ed', 'Tue9'),\n",
    "('Ed', 'Thu11'), ('Ed', 'Sat13'), ('Ed', 'Sun14'), ('Fred', 'Mon1'),\n",
    "('Fred', 'Tue2'), ('Fred', 'Wed3'), ('Fred', 'Sat6'), ('Fred', 'Mon8'),\n",
    "('Fred', 'Tue9'), ('Fred', 'Fri12'), ('Fred', 'Sat13'), ('Fred', 'Sun14'),\n",
    "('Gu', 'Mon1'), ('Gu', 'Tue2'), ('Gu', 'Wed3'), ('Gu', 'Fri5'),\n",
    "('Gu', 'Sat6'), ('Gu', 'Sun7'), ('Gu', 'Mon8'), ('Gu', 'Tue9'),\n",
    "('Gu', 'Wed10'), ('Gu', 'Thu11'), ('Gu', 'Fri12'), ('Gu', 'Sat13'),\n",
    "('Gu', 'Sun14')\n",
    "])"
   ]
  },
  {
   "cell_type": "code",
   "execution_count": 5,
   "metadata": {
    "collapsed": true
   },
   "outputs": [],
   "source": [
    "# Create initial model\n",
    "# The Model() constructor creates a model object m. The name of the model object m is workforce5\n",
    "m = Model(\"workforce5\")"
   ]
  },
  {
   "cell_type": "code",
   "execution_count": 6,
   "metadata": {
    "collapsed": true
   },
   "outputs": [],
   "source": [
    "# Initialize assignment decision variables:\n",
    "# x[w][s] == 1 if worker w is assigned to shift s, and 0 otherwise.\n",
    "# The addVar() method adds decision variables to the model object m, and returns a Gurobi tupledict object (x) that contains \n",
    "# the variables recently created. The first argument (availability) provides the keys to access the variables in the \n",
    "# returned tupledict. Recall that availability is a tuple list that defines if an employed worker is available to work a shift.\n",
    "# The argument vtype defines the type of decision variables. GRB.BINARY means that the assignmnet\n",
    "# variables x is binary. The argumment name is the name of the decision variable.\n",
    "x = m.addVars(availability, vtype=GRB.BINARY, name=\"x\")"
   ]
  },
  {
   "cell_type": "code",
   "execution_count": 7,
   "metadata": {
    "collapsed": true
   },
   "outputs": [],
   "source": [
    "# Slack decision variables determine the number of extra workers required to satisfy the requirements of each shift\n",
    "slacks = m.addVars(shifts, name=\"Slack\")"
   ]
  },
  {
   "cell_type": "code",
   "execution_count": 8,
   "metadata": {
    "collapsed": true
   },
   "outputs": [],
   "source": [
    "# Auxiliary variable totSlack to represent the total number of extra workers required to satisfy the requirements of all \n",
    "# the shifts.\n",
    "totSlack = m.addVar(name='totSlack')"
   ]
  },
  {
   "cell_type": "code",
   "execution_count": 9,
   "metadata": {
    "collapsed": true
   },
   "outputs": [],
   "source": [
    "# Auxiliary variable totShifts counts the total shifts worked by each employed worker\n",
    "totShifts = m.addVars(workers, name=\"TotShifts\")"
   ]
  },
  {
   "cell_type": "markdown",
   "metadata": {},
   "source": [
    "$$\\sum_{w \\: \\in \\: workers} x(w,s) \\; + \\; Slack(s) \\; = \\; shiftRequirements(s) \\; \\; \\; \\forall \\; s \\in shifts $$"
   ]
  },
  {
   "cell_type": "code",
   "execution_count": 10,
   "metadata": {},
   "outputs": [
    {
     "data": {
      "text/plain": [
       "{'Fri12': <gurobi.Constr *Awaiting Model Update*>,\n",
       " 'Fri5': <gurobi.Constr *Awaiting Model Update*>,\n",
       " 'Mon1': <gurobi.Constr *Awaiting Model Update*>,\n",
       " 'Mon8': <gurobi.Constr *Awaiting Model Update*>,\n",
       " 'Sat13': <gurobi.Constr *Awaiting Model Update*>,\n",
       " 'Sat6': <gurobi.Constr *Awaiting Model Update*>,\n",
       " 'Sun14': <gurobi.Constr *Awaiting Model Update*>,\n",
       " 'Sun7': <gurobi.Constr *Awaiting Model Update*>,\n",
       " 'Thu11': <gurobi.Constr *Awaiting Model Update*>,\n",
       " 'Thu4': <gurobi.Constr *Awaiting Model Update*>,\n",
       " 'Tue2': <gurobi.Constr *Awaiting Model Update*>,\n",
       " 'Tue9': <gurobi.Constr *Awaiting Model Update*>,\n",
       " 'Wed10': <gurobi.Constr *Awaiting Model Update*>,\n",
       " 'Wed3': <gurobi.Constr *Awaiting Model Update*>}"
      ]
     },
     "execution_count": 10,
     "metadata": {},
     "output_type": "execute_result"
    }
   ],
   "source": [
    "# Constraint: All shifts requirements most be satisfied.\n",
    "# The addConstrs() method adds multiple constraints to the model object m using a Python generator expression.\n",
    "# This method returns a Gurobi tupledict that contains the newly created constraints, indexed by the values generated by the\n",
    "# generator expression. The first argument of this method is a generator expression, where each iteration produces a \n",
    "# constraint. The second argument is the name of the constraints, and the given name will be subscripted by the index of the\n",
    "# generator expresion. This method returns a Gurobi tupledict object that contains the constraints recently created,\n",
    "# indexed by the values specified by the generator.\n",
    "# The assignment variables (x) are defined over the tupledict (availability), therefore we can use x.sum() to create a \n",
    "# linear expression that captures the sum of the variables in the tupledict. The expression x.sum(*,s) means the sum of the\n",
    "# the assignment variables (x) over the set (workers). We add the variable (slack) in case we don't have enough employed\n",
    "# workers to satisfy. This is an equality constraints defined by ==. In the left hand side of the constraint we have\n",
    "# the shift requirements for each shift s in the set of (shifts). The name of these constriants is (shiftRequirements).\n",
    "m.addConstrs((x.sum('*',s) + slacks[s] == shiftRequirements[s] for s in shifts), name='shiftRequirement')\n",
    "#m.update()"
   ]
  },
  {
   "cell_type": "markdown",
   "metadata": {},
   "source": [
    "$$ \\sum_{s \\: \\in \\: shifts} Slack(s) \\; = \\; totSlack  $$"
   ]
  },
  {
   "cell_type": "code",
   "execution_count": 11,
   "metadata": {},
   "outputs": [
    {
     "data": {
      "text/plain": [
       "<gurobi.Constr *Awaiting Model Update*>"
      ]
     },
     "execution_count": 11,
     "metadata": {},
     "output_type": "execute_result"
    }
   ],
   "source": [
    "# Constraint: set the auxiliary variable totSlack equal to the total number of extra workers required to satisfy shift \n",
    "# requirements\n",
    "m.addConstr(totSlack == slacks.sum(), name='totSlack')\n",
    "#m.update()"
   ]
  },
  {
   "cell_type": "markdown",
   "metadata": {},
   "source": [
    "$$\\sum_{s \\: \\in \\: shifts} x(w,s) \\; = \\; totShifts(w) \\; \\; \\forall \\ w \\; in \\; workers$$"
   ]
  },
  {
   "cell_type": "code",
   "execution_count": 12,
   "metadata": {},
   "outputs": [
    {
     "data": {
      "text/plain": [
       "{'Amy': <gurobi.Constr *Awaiting Model Update*>,\n",
       " 'Bob': <gurobi.Constr *Awaiting Model Update*>,\n",
       " 'Cathy': <gurobi.Constr *Awaiting Model Update*>,\n",
       " 'Dan': <gurobi.Constr *Awaiting Model Update*>,\n",
       " 'Ed': <gurobi.Constr *Awaiting Model Update*>,\n",
       " 'Fred': <gurobi.Constr *Awaiting Model Update*>,\n",
       " 'Gu': <gurobi.Constr *Awaiting Model Update*>}"
      ]
     },
     "execution_count": 12,
     "metadata": {},
     "output_type": "execute_result"
    }
   ],
   "source": [
    "# Constraint: compute the total number of shifts for each worker\n",
    "m.addConstrs((totShifts[w] == x.sum(w,'*') for w in workers), name='totShifts')\n",
    "#m.update()"
   ]
  },
  {
   "cell_type": "markdown",
   "metadata": {},
   "source": [
    "The variable $minShift$ determines the minimum numbers of shifts allocated to workers. This variable is calculated as follows:\n",
    "$minShift = Min \\{totShifts(w): \\ w \\; in \\; workers \\} $\n",
    "\n",
    "The variable $maxShift$ determines the maximum numbers of shifts allocated to workers. This variable is calculated as follows:\n",
    "$maxShift = Max \\{totShifts(w): \\ w \\; in \\; workers \\} $"
   ]
  },
  {
   "cell_type": "code",
   "execution_count": 13,
   "metadata": {},
   "outputs": [
    {
     "data": {
      "text/plain": [
       "<gurobi.GenConstr *Awaiting Model Update*>"
      ]
     },
     "execution_count": 13,
     "metadata": {},
     "output_type": "execute_result"
    }
   ],
   "source": [
    "# Auxiliary variables: \n",
    "# minShift is the minimum number of shifts allocated to workers \n",
    "# maxShift is the maximum number of shifts allocated to workers\n",
    "minShift = m.addVar(name='minShift')\n",
    "maxShift = m.addVar(name='maxShift')\n",
    "# Constraint: The addGenConstrMin() method of the model object m adds a new general constraint that determines  \n",
    "# the minimum value among a set of variables. The first argument is the variable whose value will be equal to the \n",
    "# minimum of the other variables, minShift in this case. The second argument is the set variables over which the  \n",
    "# minimum will be taken, totShifts in this case. Recall that the totShifts variable is defined over the set of workers\n",
    "# and determines the number of shifts that an employed worker will work. The third argument is the name of this constraint.\n",
    "m.addGenConstrMin(minShift, totShifts, name='minShift')\n",
    "# Constraint: Similarly, the addGenConstrMax() method of the model object m adds a new general constraint that determines  \n",
    "# the maximum value among a set of variables.\n",
    "m.addGenConstrMax(maxShift, totShifts, name='maxShift')\n",
    "#m.update()"
   ]
  },
  {
   "cell_type": "markdown",
   "metadata": {},
   "source": [
    "We have a primary and a secondary objective both are to minimize"
   ]
  },
  {
   "cell_type": "code",
   "execution_count": 14,
   "metadata": {
    "collapsed": true
   },
   "outputs": [],
   "source": [
    "# Set global sense for ALL objectives\n",
    "# This means that all objectives of the model object m are going to be minimized\n",
    "m.ModelSense = GRB.MINIMIZE"
   ]
  },
  {
   "cell_type": "markdown",
   "metadata": {},
   "source": [
    "The primary objective is to minimize the total number of extra workers required to satisfy shift requirements. \n",
    "$$\n",
    "Min \\; totSlack \\; = \\; \\sum_{s \\: \\in \\: shifts} Slack(s) \n",
    "$$\n",
    "\n",
    "For this objective we allow a degration tolerance of up to certain percentage. If reltol = 0.2, then we allow a degradation\n",
    "tolerance of 20%. "
   ]
  },
  {
   "cell_type": "code",
   "execution_count": 15,
   "metadata": {
    "collapsed": true
   },
   "outputs": [],
   "source": [
    "# Set up primary objective.\n",
    "# The setObjectiveN() method of the model object m allows to define multiple objectives.\n",
    "# The first argument is the linear expression defining the most important objective, called primary objective, in this case \n",
    "# it is the minimization of extra workers required to satisfy shift requirements. The second argument is the index of the \n",
    "# objective function, we set the index of the primary objective to be equal to 0. The third argument is the priority of the \n",
    "# objective. The fourth argument is the relative tolerance to degrade this objective when a lower priority\n",
    "# objective is optimized. The fifth argument is the name of this objective.\n",
    "# A hierarchical or lexicographic approach assigns a priority to each objective, and optimizes for the objectives in \n",
    "# decreasing priority order. For this problem, we have two objectives, and this objective has the highest priority which is\n",
    "# equal to 2. When the secondary objective is minimized, since the relative tolerance is 0.2, we can only degrade the \n",
    "# minimum number of extra workers up to 20%. For example if the minimum number extra workers is 10, then when optimizing the\n",
    "# secondary objective we can have up to 12 extra workers.\n",
    "m.setObjectiveN(totSlack, index=0, priority=2, reltol=0.2, name='TotalSlack')"
   ]
  },
  {
   "cell_type": "markdown",
   "metadata": {},
   "source": [
    "The secondary objective is to balance workload among workers, to do so we minimize the difference between the maximum \n",
    "number of shifts allocated to a worker, and the minimum number of shifts allocated to a worker. That is\n",
    "$$\n",
    "Min \\; maxShift \\; - \\; minShift \n",
    "$$ "
   ]
  },
  {
   "cell_type": "code",
   "execution_count": 16,
   "metadata": {
    "collapsed": true
   },
   "outputs": [],
   "source": [
    "# Set up secondary objective\n",
    "# The secondary objective is called fairness and its goal is to balance the workload assigned to the employed workers. \n",
    "# To balance the workload assigned to the employed workers, we can minimimze the difference between the maximum number\n",
    "# of shifts assigned to an employed worker and the minimum number of shifts assigned to an employed worker.\n",
    "m.setObjectiveN(maxShift - minShift, index=1, priority=1, name='Fairness')"
   ]
  },
  {
   "cell_type": "code",
   "execution_count": 17,
   "metadata": {
    "collapsed": true
   },
   "outputs": [],
   "source": [
    "# Save model formulation for inspection\n",
    "# The write() method of the model object m writes the MIP formulation into the file workforce.lp\n",
    "# The file workforce.lp contains the MIP formulation that Gurobi has in memory.\n",
    "# This file is very helpful for debugging purposes.\n",
    "m.write('workforce.lp')"
   ]
  },
  {
   "cell_type": "code",
   "execution_count": 18,
   "metadata": {},
   "outputs": [
    {
     "name": "stdout",
     "output_type": "stream",
     "text": [
      "Optimize a model with 22 rows, 96 columns and 180 nonzeros\n",
      "Model has 2 general constraints\n",
      "Variable types: 24 continuous, 72 integer (72 binary)\n",
      "Coefficient statistics:\n",
      "  Matrix range     [1e+00, 1e+00]\n",
      "  Objective range  [1e+00, 1e+00]\n",
      "  Bounds range     [1e+00, 1e+00]\n",
      "  RHS range        [2e+00, 7e+00]\n",
      "\n",
      "---------------------------------------------------------------------------\n",
      "Multi-objectives: starting optimization with 2 objectives ... \n",
      "---------------------------------------------------------------------------\n",
      "\n",
      "Multi-objectives: applying initial presolve ...\n",
      "---------------------------------------------------------------------------\n",
      "\n",
      "Presolve added 10 rows and 22 columns\n",
      "Presolve time: 0.00s\n",
      "Presolved: 32 rows and 118 columns\n",
      "---------------------------------------------------------------------------\n",
      "\n",
      "Multi-objectives: optimize objective 1 (TotalSlack) ...\n",
      "---------------------------------------------------------------------------\n",
      "\n",
      "Presolve added 7 rows and 0 columns\n",
      "Presolve removed 0 rows and 24 columns\n",
      "Presolve time: 0.00s\n",
      "Presolved: 39 rows, 94 columns, 184 nonzeros\n",
      "Presolved model has 7 SOS constraint(s)\n",
      "Variable types: 16 continuous, 78 integer (64 binary)\n",
      "\n",
      "Root relaxation: objective 6.000000e+00, 39 iterations, 0.00 seconds\n",
      "\n",
      "    Nodes    |    Current Node    |     Objective Bounds      |     Work\n",
      " Expl Unexpl |  Obj  Depth IntInf | Incumbent    BestBd   Gap | It/Node Time\n",
      "\n",
      "     0     0    6.00000    0    1          -    6.00000      -     -    0s\n",
      "H    0     0                       9.0000000    6.00000  33.3%     -    0s\n",
      "     0     2    6.00000    0    1    9.00000    6.00000  33.3%     -    0s\n",
      "*    4     4               2       6.0000000    6.00000  0.00%   4.5    0s\n",
      "\n",
      "Explored 5 nodes (74 simplex iterations) in 0.12 seconds\n",
      "Thread count was 4 (of 4 available processors)\n",
      "\n",
      "Solution count 2: 6 9 \n",
      "\n",
      "Optimal solution found (tolerance 1.00e-04)\n",
      "Best objective 6.000000000000e+00, best bound 6.000000000000e+00, gap 0.0000%\n",
      "---------------------------------------------------------------------------\n",
      "\n",
      "Multi-objectives: optimize objective 2 (Fairness) ...\n",
      "---------------------------------------------------------------------------\n",
      "\n",
      "\n",
      "Loaded MIP start with objective 5\n",
      "\n",
      "Presolve added 7 rows and 0 columns\n",
      "Presolve removed 0 rows and 15 columns\n",
      "Presolve time: 0.00s\n",
      "Presolved: 40 rows, 103 columns, 251 nonzeros\n",
      "Presolved model has 7 SOS constraint(s)\n",
      "Variable types: 16 continuous, 87 integer (80 binary)\n",
      "\n",
      "Root relaxation: objective 3.333333e-01, 54 iterations, 0.00 seconds\n",
      "\n",
      "    Nodes    |    Current Node    |     Objective Bounds      |     Work\n",
      " Expl Unexpl |  Obj  Depth IntInf | Incumbent    BestBd   Gap | It/Node Time\n",
      "\n",
      "     0     0    0.33333    0   13    5.00000    0.33333  93.3%     -    0s\n",
      "H    0     0                       1.0000000    0.33333  66.7%     -    0s\n",
      "     0     0     cutoff    0         1.00000    1.00000  0.00%     -    0s\n",
      "\n",
      "Cutting planes:\n",
      "  Gomory: 1\n",
      "\n",
      "Explored 1 nodes (98 simplex iterations) in 0.17 seconds\n",
      "Thread count was 4 (of 4 available processors)\n",
      "\n",
      "Solution count 2: 1 5 \n",
      "\n",
      "Optimal solution found (tolerance 1.00e-04)\n",
      "Best objective 1.000000000000e+00, best bound 1.000000000000e+00, gap 0.0000%\n",
      "\n",
      "---------------------------------------------------------------------------\n",
      "Multi-objectives: solved in 0.20 seconds, solution count 3\n",
      "\n"
     ]
    }
   ],
   "source": [
    "# Optimize\n",
    "# This method runs the optimization engine to solve the MIP problem in the model object m\n",
    "m.optimize()"
   ]
  },
  {
   "cell_type": "code",
   "execution_count": 19,
   "metadata": {
    "collapsed": true
   },
   "outputs": [],
   "source": [
    "# The Status attribute  provides current optimization status of the model object m\n",
    "# In workforce model, we check if the model is infeasible or unbounded and report this situation\n",
    "status = m.Status\n",
    "if status == GRB.Status.INF_OR_UNBD or status == GRB.Status.INFEASIBLE  or status == GRB.Status.UNBOUNDED:\n",
    "    print('The model cannot be solved because it is infeasible or unbounded')\n",
    "    sys.exit(0)\n",
    "# If the optimization status of the model is not optimal for some other reason, we report that situation.\n",
    "if status != GRB.Status.OPTIMAL:\n",
    "    print('Optimization was stopped with status ' + str(status))\n",
    "    sys.exit(0)"
   ]
  },
  {
   "cell_type": "code",
   "execution_count": 20,
   "metadata": {},
   "outputs": [
    {
     "name": "stdout",
     "output_type": "stream",
     "text": [
      "\n",
      "Total slack required: 7.0\n",
      "Amy worked 8.0 shifts\n",
      "Gu worked 7.0 shifts\n",
      "Cathy worked 8.0 shifts\n",
      "Ed worked 7.0 shifts\n",
      "Dan worked 7.0 shifts\n",
      "Bob worked 7.0 shifts\n",
      "Fred worked 7.0 shifts\n",
      "\n"
     ]
    }
   ],
   "source": [
    "# Print total slack and the number of shifts worked for each worker\n",
    "# The KPIs for this optimization number is the number of extra worked required to satisfy demand\n",
    "# and the number of shifts that each employed worker is working.\n",
    "print('')\n",
    "print('Total slack required: ' + str(totSlack.X))\n",
    "for w in workers:\n",
    "   print(w + ' worked ' + str(totShifts[w].X) + ' shifts')\n",
    "print('')"
   ]
  }
 ],
 "metadata": {
  "kernelspec": {
   "display_name": "Python 2",
   "language": "python",
   "name": "python2"
  },
  "language_info": {
   "codemirror_mode": {
    "name": "ipython",
    "version": 2
   },
   "file_extension": ".py",
   "mimetype": "text/x-python",
   "name": "python",
   "nbconvert_exporter": "python",
   "pygments_lexer": "ipython2",
   "version": "2.7.13"
  }
 },
 "nbformat": 4,
 "nbformat_minor": 2
}
